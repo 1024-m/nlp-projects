{
  "nbformat": 4,
  "nbformat_minor": 0,
  "metadata": {
    "colab": {
      "provenance": [],
      "authorship_tag": "ABX9TyMQR3JGj+qxkwYSzLdKV83Q",
      "include_colab_link": true
    },
    "kernelspec": {
      "name": "python3",
      "display_name": "Python 3"
    },
    "language_info": {
      "name": "python"
    }
  },
  "cells": [
    {
      "cell_type": "markdown",
      "metadata": {
        "id": "view-in-github",
        "colab_type": "text"
      },
      "source": [
        "<a href=\"https://colab.research.google.com/github/1024-m/nlp-bots/blob/main/image_to_txt.ipynb\" target=\"_parent\"><img src=\"https://colab.research.google.com/assets/colab-badge.svg\" alt=\"Open In Colab\"/></a>"
      ]
    },
    {
      "cell_type": "code",
      "execution_count": null,
      "metadata": {
        "id": "hApPDmuZFlXw"
      },
      "outputs": [],
      "source": [
        "#https://github.com/tesseract-ocr/tesseract\n",
        "!pip install pytesseract\n",
        "import cv2\n",
        "import pytesseract\n",
        "image = cv2.imread(\"image.jpg\")\n",
        "text = pytesseract.image_to_string(image)\n",
        "print(text)"
      ]
    }
  ]
}