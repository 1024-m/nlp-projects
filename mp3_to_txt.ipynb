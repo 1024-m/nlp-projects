{
  "nbformat": 4,
  "nbformat_minor": 0,
  "metadata": {
    "colab": {
      "provenance": [],
      "authorship_tag": "ABX9TyPv0HAeGjbFE1gckLlz4Tq8",
      "include_colab_link": true
    },
    "kernelspec": {
      "name": "python3",
      "display_name": "Python 3"
    },
    "language_info": {
      "name": "python"
    }
  },
  "cells": [
    {
      "cell_type": "markdown",
      "metadata": {
        "id": "view-in-github",
        "colab_type": "text"
      },
      "source": [
        "<a href=\"https://colab.research.google.com/github/1024-m/nlp-bots/blob/main/mp3_to_txt.ipynb\" target=\"_parent\"><img src=\"https://colab.research.google.com/assets/colab-badge.svg\" alt=\"Open In Colab\"/></a>"
      ]
    },
    {
      "cell_type": "code",
      "execution_count": null,
      "metadata": {
        "id": "7u2OpP7PFJJj"
      },
      "outputs": [],
      "source": [
        "import speech_recognition as sr\n",
        "r = sr.Recognizer()\n",
        "# replace 'audio.mp3' with audio file \n",
        "with sr.AudioFile('audio.mp3') as source:\n",
        "    audio = r.record(source)\n",
        "text = r.recognize_google(audio)\n",
        "print(text)"
      ]
    }
  ]
}