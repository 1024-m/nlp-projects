{
  "nbformat": 4,
  "nbformat_minor": 0,
  "metadata": {
    "colab": {
      "provenance": [],
      "authorship_tag": "ABX9TyMQI5HtSChf9iHyQ6ybwC3p",
      "include_colab_link": true
    },
    "kernelspec": {
      "name": "python3",
      "display_name": "Python 3"
    },
    "language_info": {
      "name": "python"
    }
  },
  "cells": [
    {
      "cell_type": "markdown",
      "metadata": {
        "id": "view-in-github",
        "colab_type": "text"
      },
      "source": [
        "<a href=\"https://colab.research.google.com/github/1024-m/nlp-bots/blob/main/otherLANGtxt_to_txt.ipynb\" target=\"_parent\"><img src=\"https://colab.research.google.com/assets/colab-badge.svg\" alt=\"Open In Colab\"/></a>"
      ]
    },
    {
      "cell_type": "code",
      "execution_count": null,
      "metadata": {
        "id": "6AqpPrauGGmc"
      },
      "outputs": [],
      "source": [
        "!pip install translate\n",
        "from translate import Translator\n",
        "text = \"హలో ప్రపంచం bing bong モフヘ転居写\"\n",
        "translator = Translator(to_lang=\"en\")\n",
        "translation = translator.translate(text)\n",
        "print(translation)"
      ]
    }
  ]
}