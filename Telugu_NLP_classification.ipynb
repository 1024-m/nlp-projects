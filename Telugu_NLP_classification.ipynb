{
  "nbformat": 4,
  "nbformat_minor": 0,
  "metadata": {
    "colab": {
      "provenance": [],
      "include_colab_link": true
    },
    "kernelspec": {
      "name": "python3",
      "display_name": "Python 3"
    },
    "language_info": {
      "name": "python"
    }
  },
  "cells": [
    {
      "cell_type": "markdown",
      "metadata": {
        "id": "view-in-github",
        "colab_type": "text"
      },
      "source": [
        "<a href=\"https://colab.research.google.com/github/1024-m/nlp-bots/blob/main/Telugu_NLP_classification.ipynb\" target=\"_parent\"><img src=\"https://colab.research.google.com/assets/colab-badge.svg\" alt=\"Open In Colab\"/></a>"
      ]
    },
    {
      "cell_type": "code",
      "execution_count": null,
      "metadata": {
        "id": "nDJi6J44TMmE"
      },
      "outputs": [],
      "source": [
        "import nltk\n",
        "import pandas as pd\n",
        "import matplotlib.pyplot as plt\n",
        "import numpy as np\n",
        "import re\n",
        "import string\n",
        "from sklearn.model_selection import train_test_split\n",
        "import seaborn as sns\n",
        "import os"
      ]
    },
    {
      "cell_type": "code",
      "source": [
        "train_path = \"/content/drive/MyDrive/nlp/train_telugu_news.csv\"\n",
        "telugu_news_df = pd.read_csv(train_path)\n",
        "telugu_news_df"
      ],
      "metadata": {
        "colab": {
          "base_uri": "https://localhost:8080/",
          "height": 423
        },
        "id": "92BYNZ_8Thmz",
        "outputId": "11c3b632-4978-4902-fdd6-82a31506061d"
      },
      "execution_count": null,
      "outputs": [
        {
          "output_type": "execute_result",
          "data": {
            "text/plain": [
              "         SNo                 date  \\\n",
              "0        414  11-05-2017 00:39:13   \n",
              "1       2668  12-06-2017 00:40:32   \n",
              "2      19923  19-01-2017 19:51:31   \n",
              "3      15762  23-11-2017 17:29:04   \n",
              "4       8624  03-04-2017 15:48:23   \n",
              "...      ...                  ...   \n",
              "17307  10296  02-02-2017 12:18:11   \n",
              "17308  13641  20-12-2017 04:16:32   \n",
              "17309  17288  20-05-2017 03:00:10   \n",
              "17310  20882  13-06-2017 04:30:36   \n",
              "17311  13905  17-12-2017 02:12:54   \n",
              "\n",
              "                                                heading  \\\n",
              "0                                ఐడిబిఐపై ఆర్‌బిఐ నజర్‌   \n",
              "1                 బ్యాంకింగ్‌ చీఫ్‌లతో నేడు జైట్లీ భేటీ   \n",
              "2                             కీలక వికెట్ తీసిన జడేజా..   \n",
              "3               మరో రెచ్చగొట్టే చర్యకు దిగిన పాకిస్థాన్   \n",
              "4      గోవాలో కొడుకుతో కలిసి అల్లు అర్జున్ స్విమ్మింగ్!   \n",
              "...                                                 ...   \n",
              "17307       చిరు,ఎన్టీఆర్ వల్ల కాజల్‌కు దక్కిందేమిటి..?   \n",
              "17308               హిమాచల్‌ సీఎం రేసులో నడ్డా, జైరామ్‌   \n",
              "17309                             సతతహరిత విప్లవం అవసరం   \n",
              "17310                     ఇంగ్లండ్‌ జెర్సీలో వార్న్‌..!   \n",
              "17311                           ఆ శక్తి రాహుల్‌కు ఉంది!   \n",
              "\n",
              "                                                    body          topic  \n",
              "0      భారీ ఎత్తున మొండిబకాయిలు పెరిగిపోవడంతో ఐడిబిఐ ...       business  \n",
              "1      న్యూఢిల్లీ : ఆర్థిక మంత్రి అరుణ్‌ జైట్లీ సోమవా...       business  \n",
              "2      కటక్: ఇంగ్లండ్‌తో జరుగుతున్న సెకండ్ వన్డే మ్యా...         sports  \n",
              "3      \\nఇస్లామాబాద్ : పాకిస్థాన్ అంతర్జాతీయ ఉగ్రవాది...         nation  \n",
              "4      స్టార్‌ హీరోగా వరుస సినిమాలతో బిజీగా ఉన్నప్పటి...  entertainment  \n",
              "...                                                  ...            ...  \n",
              "17307  ఇండస్ట్రీలో హీరోయిన్‌గా రాణించాలంటే కేవలం గ్లా...  entertainment  \n",
              "17308  షిమ్లా, డిసెంబరు 19: హిమాచల్‌ ప్రదేశ్‌ అసెంబ్ల...         nation  \n",
              "17309  2022 నాటికి  రైతుల ఆదాయం రెట్టింపు చేయడానికి క...         nation  \n",
              "17310  పందెంలో ఓడిన షేనలండన్: ఆస్ట్రేలియా స్పిన్ లెజె...         sports  \n",
              "17311   ధైర్యంగా పార్టీని నడపగలరు దేశం సవాళ్లను ఎదుర్...         nation  \n",
              "\n",
              "[17312 rows x 5 columns]"
            ],
            "text/html": [
              "\n",
              "  <div id=\"df-116e21e3-2fd3-4a45-9c78-d09790cad7cb\">\n",
              "    <div class=\"colab-df-container\">\n",
              "      <div>\n",
              "<style scoped>\n",
              "    .dataframe tbody tr th:only-of-type {\n",
              "        vertical-align: middle;\n",
              "    }\n",
              "\n",
              "    .dataframe tbody tr th {\n",
              "        vertical-align: top;\n",
              "    }\n",
              "\n",
              "    .dataframe thead th {\n",
              "        text-align: right;\n",
              "    }\n",
              "</style>\n",
              "<table border=\"1\" class=\"dataframe\">\n",
              "  <thead>\n",
              "    <tr style=\"text-align: right;\">\n",
              "      <th></th>\n",
              "      <th>SNo</th>\n",
              "      <th>date</th>\n",
              "      <th>heading</th>\n",
              "      <th>body</th>\n",
              "      <th>topic</th>\n",
              "    </tr>\n",
              "  </thead>\n",
              "  <tbody>\n",
              "    <tr>\n",
              "      <th>0</th>\n",
              "      <td>414</td>\n",
              "      <td>11-05-2017 00:39:13</td>\n",
              "      <td>ఐడిబిఐపై ఆర్‌బిఐ నజర్‌</td>\n",
              "      <td>భారీ ఎత్తున మొండిబకాయిలు పెరిగిపోవడంతో ఐడిబిఐ ...</td>\n",
              "      <td>business</td>\n",
              "    </tr>\n",
              "    <tr>\n",
              "      <th>1</th>\n",
              "      <td>2668</td>\n",
              "      <td>12-06-2017 00:40:32</td>\n",
              "      <td>బ్యాంకింగ్‌ చీఫ్‌లతో నేడు జైట్లీ భేటీ</td>\n",
              "      <td>న్యూఢిల్లీ : ఆర్థిక మంత్రి అరుణ్‌ జైట్లీ సోమవా...</td>\n",
              "      <td>business</td>\n",
              "    </tr>\n",
              "    <tr>\n",
              "      <th>2</th>\n",
              "      <td>19923</td>\n",
              "      <td>19-01-2017 19:51:31</td>\n",
              "      <td>కీలక వికెట్ తీసిన జడేజా..</td>\n",
              "      <td>కటక్: ఇంగ్లండ్‌తో జరుగుతున్న సెకండ్ వన్డే మ్యా...</td>\n",
              "      <td>sports</td>\n",
              "    </tr>\n",
              "    <tr>\n",
              "      <th>3</th>\n",
              "      <td>15762</td>\n",
              "      <td>23-11-2017 17:29:04</td>\n",
              "      <td>మరో రెచ్చగొట్టే చర్యకు దిగిన పాకిస్థాన్</td>\n",
              "      <td>\\nఇస్లామాబాద్ : పాకిస్థాన్ అంతర్జాతీయ ఉగ్రవాది...</td>\n",
              "      <td>nation</td>\n",
              "    </tr>\n",
              "    <tr>\n",
              "      <th>4</th>\n",
              "      <td>8624</td>\n",
              "      <td>03-04-2017 15:48:23</td>\n",
              "      <td>గోవాలో కొడుకుతో కలిసి అల్లు అర్జున్ స్విమ్మింగ్!</td>\n",
              "      <td>స్టార్‌ హీరోగా వరుస సినిమాలతో బిజీగా ఉన్నప్పటి...</td>\n",
              "      <td>entertainment</td>\n",
              "    </tr>\n",
              "    <tr>\n",
              "      <th>...</th>\n",
              "      <td>...</td>\n",
              "      <td>...</td>\n",
              "      <td>...</td>\n",
              "      <td>...</td>\n",
              "      <td>...</td>\n",
              "    </tr>\n",
              "    <tr>\n",
              "      <th>17307</th>\n",
              "      <td>10296</td>\n",
              "      <td>02-02-2017 12:18:11</td>\n",
              "      <td>చిరు,ఎన్టీఆర్ వల్ల కాజల్‌కు దక్కిందేమిటి..?</td>\n",
              "      <td>ఇండస్ట్రీలో హీరోయిన్‌గా రాణించాలంటే కేవలం గ్లా...</td>\n",
              "      <td>entertainment</td>\n",
              "    </tr>\n",
              "    <tr>\n",
              "      <th>17308</th>\n",
              "      <td>13641</td>\n",
              "      <td>20-12-2017 04:16:32</td>\n",
              "      <td>హిమాచల్‌ సీఎం రేసులో నడ్డా, జైరామ్‌</td>\n",
              "      <td>షిమ్లా, డిసెంబరు 19: హిమాచల్‌ ప్రదేశ్‌ అసెంబ్ల...</td>\n",
              "      <td>nation</td>\n",
              "    </tr>\n",
              "    <tr>\n",
              "      <th>17309</th>\n",
              "      <td>17288</td>\n",
              "      <td>20-05-2017 03:00:10</td>\n",
              "      <td>సతతహరిత విప్లవం అవసరం</td>\n",
              "      <td>2022 నాటికి  రైతుల ఆదాయం రెట్టింపు చేయడానికి క...</td>\n",
              "      <td>nation</td>\n",
              "    </tr>\n",
              "    <tr>\n",
              "      <th>17310</th>\n",
              "      <td>20882</td>\n",
              "      <td>13-06-2017 04:30:36</td>\n",
              "      <td>ఇంగ్లండ్‌ జెర్సీలో వార్న్‌..!</td>\n",
              "      <td>పందెంలో ఓడిన షేనలండన్: ఆస్ట్రేలియా స్పిన్ లెజె...</td>\n",
              "      <td>sports</td>\n",
              "    </tr>\n",
              "    <tr>\n",
              "      <th>17311</th>\n",
              "      <td>13905</td>\n",
              "      <td>17-12-2017 02:12:54</td>\n",
              "      <td>ఆ శక్తి రాహుల్‌కు ఉంది!</td>\n",
              "      <td>ధైర్యంగా పార్టీని నడపగలరు దేశం సవాళ్లను ఎదుర్...</td>\n",
              "      <td>nation</td>\n",
              "    </tr>\n",
              "  </tbody>\n",
              "</table>\n",
              "<p>17312 rows × 5 columns</p>\n",
              "</div>\n",
              "      <button class=\"colab-df-convert\" onclick=\"convertToInteractive('df-116e21e3-2fd3-4a45-9c78-d09790cad7cb')\"\n",
              "              title=\"Convert this dataframe to an interactive table.\"\n",
              "              style=\"display:none;\">\n",
              "        \n",
              "  <svg xmlns=\"http://www.w3.org/2000/svg\" height=\"24px\"viewBox=\"0 0 24 24\"\n",
              "       width=\"24px\">\n",
              "    <path d=\"M0 0h24v24H0V0z\" fill=\"none\"/>\n",
              "    <path d=\"M18.56 5.44l.94 2.06.94-2.06 2.06-.94-2.06-.94-.94-2.06-.94 2.06-2.06.94zm-11 1L8.5 8.5l.94-2.06 2.06-.94-2.06-.94L8.5 2.5l-.94 2.06-2.06.94zm10 10l.94 2.06.94-2.06 2.06-.94-2.06-.94-.94-2.06-.94 2.06-2.06.94z\"/><path d=\"M17.41 7.96l-1.37-1.37c-.4-.4-.92-.59-1.43-.59-.52 0-1.04.2-1.43.59L10.3 9.45l-7.72 7.72c-.78.78-.78 2.05 0 2.83L4 21.41c.39.39.9.59 1.41.59.51 0 1.02-.2 1.41-.59l7.78-7.78 2.81-2.81c.8-.78.8-2.07 0-2.86zM5.41 20L4 18.59l7.72-7.72 1.47 1.35L5.41 20z\"/>\n",
              "  </svg>\n",
              "      </button>\n",
              "      \n",
              "  <style>\n",
              "    .colab-df-container {\n",
              "      display:flex;\n",
              "      flex-wrap:wrap;\n",
              "      gap: 12px;\n",
              "    }\n",
              "\n",
              "    .colab-df-convert {\n",
              "      background-color: #E8F0FE;\n",
              "      border: none;\n",
              "      border-radius: 50%;\n",
              "      cursor: pointer;\n",
              "      display: none;\n",
              "      fill: #1967D2;\n",
              "      height: 32px;\n",
              "      padding: 0 0 0 0;\n",
              "      width: 32px;\n",
              "    }\n",
              "\n",
              "    .colab-df-convert:hover {\n",
              "      background-color: #E2EBFA;\n",
              "      box-shadow: 0px 1px 2px rgba(60, 64, 67, 0.3), 0px 1px 3px 1px rgba(60, 64, 67, 0.15);\n",
              "      fill: #174EA6;\n",
              "    }\n",
              "\n",
              "    [theme=dark] .colab-df-convert {\n",
              "      background-color: #3B4455;\n",
              "      fill: #D2E3FC;\n",
              "    }\n",
              "\n",
              "    [theme=dark] .colab-df-convert:hover {\n",
              "      background-color: #434B5C;\n",
              "      box-shadow: 0px 1px 3px 1px rgba(0, 0, 0, 0.15);\n",
              "      filter: drop-shadow(0px 1px 2px rgba(0, 0, 0, 0.3));\n",
              "      fill: #FFFFFF;\n",
              "    }\n",
              "  </style>\n",
              "\n",
              "      <script>\n",
              "        const buttonEl =\n",
              "          document.querySelector('#df-116e21e3-2fd3-4a45-9c78-d09790cad7cb button.colab-df-convert');\n",
              "        buttonEl.style.display =\n",
              "          google.colab.kernel.accessAllowed ? 'block' : 'none';\n",
              "\n",
              "        async function convertToInteractive(key) {\n",
              "          const element = document.querySelector('#df-116e21e3-2fd3-4a45-9c78-d09790cad7cb');\n",
              "          const dataTable =\n",
              "            await google.colab.kernel.invokeFunction('convertToInteractive',\n",
              "                                                     [key], {});\n",
              "          if (!dataTable) return;\n",
              "\n",
              "          const docLinkHtml = 'Like what you see? Visit the ' +\n",
              "            '<a target=\"_blank\" href=https://colab.research.google.com/notebooks/data_table.ipynb>data table notebook</a>'\n",
              "            + ' to learn more about interactive tables.';\n",
              "          element.innerHTML = '';\n",
              "          dataTable['output_type'] = 'display_data';\n",
              "          await google.colab.output.renderOutput(dataTable, element);\n",
              "          const docLink = document.createElement('div');\n",
              "          docLink.innerHTML = docLinkHtml;\n",
              "          element.appendChild(docLink);\n",
              "        }\n",
              "      </script>\n",
              "    </div>\n",
              "  </div>\n",
              "  "
            ]
          },
          "metadata": {},
          "execution_count": 2
        }
      ]
    },
    {
      "cell_type": "code",
      "source": [
        "del telugu_news_df[\"heading\"]\n",
        "del telugu_news_df[\"SNo\"]"
      ],
      "metadata": {
        "id": "vFfEyTnLU7sI"
      },
      "execution_count": null,
      "outputs": []
    },
    {
      "cell_type": "code",
      "source": [
        "telugu_news_df"
      ],
      "metadata": {
        "colab": {
          "base_uri": "https://localhost:8080/",
          "height": 423
        },
        "id": "td2FAyz-VX0j",
        "outputId": "7c93d333-6489-4383-a59c-d39c39d15aaf"
      },
      "execution_count": null,
      "outputs": [
        {
          "output_type": "execute_result",
          "data": {
            "text/plain": [
              "                      date                                               body  \\\n",
              "0      11-05-2017 00:39:13  భారీ ఎత్తున మొండిబకాయిలు పెరిగిపోవడంతో ఐడిబిఐ ...   \n",
              "1      12-06-2017 00:40:32  న్యూఢిల్లీ : ఆర్థిక మంత్రి అరుణ్‌ జైట్లీ సోమవా...   \n",
              "2      19-01-2017 19:51:31  కటక్: ఇంగ్లండ్‌తో జరుగుతున్న సెకండ్ వన్డే మ్యా...   \n",
              "3      23-11-2017 17:29:04  \\nఇస్లామాబాద్ : పాకిస్థాన్ అంతర్జాతీయ ఉగ్రవాది...   \n",
              "4      03-04-2017 15:48:23  స్టార్‌ హీరోగా వరుస సినిమాలతో బిజీగా ఉన్నప్పటి...   \n",
              "...                    ...                                                ...   \n",
              "17307  02-02-2017 12:18:11  ఇండస్ట్రీలో హీరోయిన్‌గా రాణించాలంటే కేవలం గ్లా...   \n",
              "17308  20-12-2017 04:16:32  షిమ్లా, డిసెంబరు 19: హిమాచల్‌ ప్రదేశ్‌ అసెంబ్ల...   \n",
              "17309  20-05-2017 03:00:10  2022 నాటికి  రైతుల ఆదాయం రెట్టింపు చేయడానికి క...   \n",
              "17310  13-06-2017 04:30:36  పందెంలో ఓడిన షేనలండన్: ఆస్ట్రేలియా స్పిన్ లెజె...   \n",
              "17311  17-12-2017 02:12:54   ధైర్యంగా పార్టీని నడపగలరు దేశం సవాళ్లను ఎదుర్...   \n",
              "\n",
              "               topic  \n",
              "0           business  \n",
              "1           business  \n",
              "2             sports  \n",
              "3             nation  \n",
              "4      entertainment  \n",
              "...              ...  \n",
              "17307  entertainment  \n",
              "17308         nation  \n",
              "17309         nation  \n",
              "17310         sports  \n",
              "17311         nation  \n",
              "\n",
              "[17312 rows x 3 columns]"
            ],
            "text/html": [
              "\n",
              "  <div id=\"df-52335232-ee15-4860-9443-64ace91f520b\">\n",
              "    <div class=\"colab-df-container\">\n",
              "      <div>\n",
              "<style scoped>\n",
              "    .dataframe tbody tr th:only-of-type {\n",
              "        vertical-align: middle;\n",
              "    }\n",
              "\n",
              "    .dataframe tbody tr th {\n",
              "        vertical-align: top;\n",
              "    }\n",
              "\n",
              "    .dataframe thead th {\n",
              "        text-align: right;\n",
              "    }\n",
              "</style>\n",
              "<table border=\"1\" class=\"dataframe\">\n",
              "  <thead>\n",
              "    <tr style=\"text-align: right;\">\n",
              "      <th></th>\n",
              "      <th>date</th>\n",
              "      <th>body</th>\n",
              "      <th>topic</th>\n",
              "    </tr>\n",
              "  </thead>\n",
              "  <tbody>\n",
              "    <tr>\n",
              "      <th>0</th>\n",
              "      <td>11-05-2017 00:39:13</td>\n",
              "      <td>భారీ ఎత్తున మొండిబకాయిలు పెరిగిపోవడంతో ఐడిబిఐ ...</td>\n",
              "      <td>business</td>\n",
              "    </tr>\n",
              "    <tr>\n",
              "      <th>1</th>\n",
              "      <td>12-06-2017 00:40:32</td>\n",
              "      <td>న్యూఢిల్లీ : ఆర్థిక మంత్రి అరుణ్‌ జైట్లీ సోమవా...</td>\n",
              "      <td>business</td>\n",
              "    </tr>\n",
              "    <tr>\n",
              "      <th>2</th>\n",
              "      <td>19-01-2017 19:51:31</td>\n",
              "      <td>కటక్: ఇంగ్లండ్‌తో జరుగుతున్న సెకండ్ వన్డే మ్యా...</td>\n",
              "      <td>sports</td>\n",
              "    </tr>\n",
              "    <tr>\n",
              "      <th>3</th>\n",
              "      <td>23-11-2017 17:29:04</td>\n",
              "      <td>\\nఇస్లామాబాద్ : పాకిస్థాన్ అంతర్జాతీయ ఉగ్రవాది...</td>\n",
              "      <td>nation</td>\n",
              "    </tr>\n",
              "    <tr>\n",
              "      <th>4</th>\n",
              "      <td>03-04-2017 15:48:23</td>\n",
              "      <td>స్టార్‌ హీరోగా వరుస సినిమాలతో బిజీగా ఉన్నప్పటి...</td>\n",
              "      <td>entertainment</td>\n",
              "    </tr>\n",
              "    <tr>\n",
              "      <th>...</th>\n",
              "      <td>...</td>\n",
              "      <td>...</td>\n",
              "      <td>...</td>\n",
              "    </tr>\n",
              "    <tr>\n",
              "      <th>17307</th>\n",
              "      <td>02-02-2017 12:18:11</td>\n",
              "      <td>ఇండస్ట్రీలో హీరోయిన్‌గా రాణించాలంటే కేవలం గ్లా...</td>\n",
              "      <td>entertainment</td>\n",
              "    </tr>\n",
              "    <tr>\n",
              "      <th>17308</th>\n",
              "      <td>20-12-2017 04:16:32</td>\n",
              "      <td>షిమ్లా, డిసెంబరు 19: హిమాచల్‌ ప్రదేశ్‌ అసెంబ్ల...</td>\n",
              "      <td>nation</td>\n",
              "    </tr>\n",
              "    <tr>\n",
              "      <th>17309</th>\n",
              "      <td>20-05-2017 03:00:10</td>\n",
              "      <td>2022 నాటికి  రైతుల ఆదాయం రెట్టింపు చేయడానికి క...</td>\n",
              "      <td>nation</td>\n",
              "    </tr>\n",
              "    <tr>\n",
              "      <th>17310</th>\n",
              "      <td>13-06-2017 04:30:36</td>\n",
              "      <td>పందెంలో ఓడిన షేనలండన్: ఆస్ట్రేలియా స్పిన్ లెజె...</td>\n",
              "      <td>sports</td>\n",
              "    </tr>\n",
              "    <tr>\n",
              "      <th>17311</th>\n",
              "      <td>17-12-2017 02:12:54</td>\n",
              "      <td>ధైర్యంగా పార్టీని నడపగలరు దేశం సవాళ్లను ఎదుర్...</td>\n",
              "      <td>nation</td>\n",
              "    </tr>\n",
              "  </tbody>\n",
              "</table>\n",
              "<p>17312 rows × 3 columns</p>\n",
              "</div>\n",
              "      <button class=\"colab-df-convert\" onclick=\"convertToInteractive('df-52335232-ee15-4860-9443-64ace91f520b')\"\n",
              "              title=\"Convert this dataframe to an interactive table.\"\n",
              "              style=\"display:none;\">\n",
              "        \n",
              "  <svg xmlns=\"http://www.w3.org/2000/svg\" height=\"24px\"viewBox=\"0 0 24 24\"\n",
              "       width=\"24px\">\n",
              "    <path d=\"M0 0h24v24H0V0z\" fill=\"none\"/>\n",
              "    <path d=\"M18.56 5.44l.94 2.06.94-2.06 2.06-.94-2.06-.94-.94-2.06-.94 2.06-2.06.94zm-11 1L8.5 8.5l.94-2.06 2.06-.94-2.06-.94L8.5 2.5l-.94 2.06-2.06.94zm10 10l.94 2.06.94-2.06 2.06-.94-2.06-.94-.94-2.06-.94 2.06-2.06.94z\"/><path d=\"M17.41 7.96l-1.37-1.37c-.4-.4-.92-.59-1.43-.59-.52 0-1.04.2-1.43.59L10.3 9.45l-7.72 7.72c-.78.78-.78 2.05 0 2.83L4 21.41c.39.39.9.59 1.41.59.51 0 1.02-.2 1.41-.59l7.78-7.78 2.81-2.81c.8-.78.8-2.07 0-2.86zM5.41 20L4 18.59l7.72-7.72 1.47 1.35L5.41 20z\"/>\n",
              "  </svg>\n",
              "      </button>\n",
              "      \n",
              "  <style>\n",
              "    .colab-df-container {\n",
              "      display:flex;\n",
              "      flex-wrap:wrap;\n",
              "      gap: 12px;\n",
              "    }\n",
              "\n",
              "    .colab-df-convert {\n",
              "      background-color: #E8F0FE;\n",
              "      border: none;\n",
              "      border-radius: 50%;\n",
              "      cursor: pointer;\n",
              "      display: none;\n",
              "      fill: #1967D2;\n",
              "      height: 32px;\n",
              "      padding: 0 0 0 0;\n",
              "      width: 32px;\n",
              "    }\n",
              "\n",
              "    .colab-df-convert:hover {\n",
              "      background-color: #E2EBFA;\n",
              "      box-shadow: 0px 1px 2px rgba(60, 64, 67, 0.3), 0px 1px 3px 1px rgba(60, 64, 67, 0.15);\n",
              "      fill: #174EA6;\n",
              "    }\n",
              "\n",
              "    [theme=dark] .colab-df-convert {\n",
              "      background-color: #3B4455;\n",
              "      fill: #D2E3FC;\n",
              "    }\n",
              "\n",
              "    [theme=dark] .colab-df-convert:hover {\n",
              "      background-color: #434B5C;\n",
              "      box-shadow: 0px 1px 3px 1px rgba(0, 0, 0, 0.15);\n",
              "      filter: drop-shadow(0px 1px 2px rgba(0, 0, 0, 0.3));\n",
              "      fill: #FFFFFF;\n",
              "    }\n",
              "  </style>\n",
              "\n",
              "      <script>\n",
              "        const buttonEl =\n",
              "          document.querySelector('#df-52335232-ee15-4860-9443-64ace91f520b button.colab-df-convert');\n",
              "        buttonEl.style.display =\n",
              "          google.colab.kernel.accessAllowed ? 'block' : 'none';\n",
              "\n",
              "        async function convertToInteractive(key) {\n",
              "          const element = document.querySelector('#df-52335232-ee15-4860-9443-64ace91f520b');\n",
              "          const dataTable =\n",
              "            await google.colab.kernel.invokeFunction('convertToInteractive',\n",
              "                                                     [key], {});\n",
              "          if (!dataTable) return;\n",
              "\n",
              "          const docLinkHtml = 'Like what you see? Visit the ' +\n",
              "            '<a target=\"_blank\" href=https://colab.research.google.com/notebooks/data_table.ipynb>data table notebook</a>'\n",
              "            + ' to learn more about interactive tables.';\n",
              "          element.innerHTML = '';\n",
              "          dataTable['output_type'] = 'display_data';\n",
              "          await google.colab.output.renderOutput(dataTable, element);\n",
              "          const docLink = document.createElement('div');\n",
              "          docLink.innerHTML = docLinkHtml;\n",
              "          element.appendChild(docLink);\n",
              "        }\n",
              "      </script>\n",
              "    </div>\n",
              "  </div>\n",
              "  "
            ]
          },
          "metadata": {},
          "execution_count": 4
        }
      ]
    },
    {
      "cell_type": "code",
      "source": [
        "telugu_news_df[\"topic\"].unique()"
      ],
      "metadata": {
        "colab": {
          "base_uri": "https://localhost:8080/"
        },
        "id": "zWFyjcnoVi_Y",
        "outputId": "1f3bd02c-770b-4acf-f0db-7f0b1b9b6e68"
      },
      "execution_count": null,
      "outputs": [
        {
          "output_type": "execute_result",
          "data": {
            "text/plain": [
              "array(['business', 'sports', 'nation', 'entertainment', 'editorial'],\n",
              "      dtype=object)"
            ]
          },
          "metadata": {},
          "execution_count": 5
        }
      ]
    },
    {
      "cell_type": "code",
      "source": [
        "topic_dic = {}\n",
        "temp1 = 0\n",
        "for un in telugu_news_df[\"topic\"].unique():\n",
        "    if un not in topic_dic:\n",
        "        topic_dic[un] = temp1\n",
        "        temp1 += 1\n",
        "topic_dic"
      ],
      "metadata": {
        "colab": {
          "base_uri": "https://localhost:8080/"
        },
        "id": "_xlPzqRJVm_Z",
        "outputId": "477861ce-6d95-4434-ce70-3134434c173b"
      },
      "execution_count": null,
      "outputs": [
        {
          "output_type": "execute_result",
          "data": {
            "text/plain": [
              "{'business': 0, 'sports': 1, 'nation': 2, 'entertainment': 3, 'editorial': 4}"
            ]
          },
          "metadata": {},
          "execution_count": 6
        }
      ]
    },
    {
      "cell_type": "code",
      "source": [
        "inv_topic_dict = {v: k for k, v in topic_dic.items()}"
      ],
      "metadata": {
        "id": "l0wZtDHiV6Sr"
      },
      "execution_count": null,
      "outputs": []
    },
    {
      "cell_type": "code",
      "source": [
        "def func_topic(s):\n",
        "    return topic_dic[s]\n",
        "telugu_news_df[\"topic\"] = telugu_news_df[\"topic\"].apply(func_topic)"
      ],
      "metadata": {
        "id": "5koINyY7V-dp"
      },
      "execution_count": null,
      "outputs": []
    },
    {
      "cell_type": "code",
      "source": [
        "def get_count(df):\n",
        "    unvals = list(df.unique())\n",
        "    op = [0]*len(unvals)\n",
        "    i = 0\n",
        "    for un in unvals:\n",
        "        op[i] = df[df == un].shape[0]\n",
        "        i += 1\n",
        "    return [list(unvals),op]\n",
        "cont = get_count(telugu_news_df[\"topic\"])\n",
        "clables = cont[0]\n",
        "labels = []\n",
        "for c in clables:\n",
        "    labels.append(inv_topic_dict[c])\n",
        "plt.figure(figsize=(16,12))\n",
        "plt.title(\"Distribution of the news topics\", fontsize=16)\n",
        "plt.style.use('seaborn-colorblind')\n",
        "plt.pie(np.array(cont[1]), labels=labels, autopct='%1.2f%%', shadow=True)\n",
        "plt.show()"
      ],
      "metadata": {
        "colab": {
          "base_uri": "https://localhost:8080/",
          "height": 701
        },
        "id": "r4KtFzkbWEON",
        "outputId": "a1c6042d-1dfc-47c2-989d-ed786f69524b"
      },
      "execution_count": null,
      "outputs": [
        {
          "output_type": "display_data",
          "data": {
            "text/plain": [
              "<Figure size 1152x864 with 1 Axes>"
            ],
            "image/png": "[encoded data removed]"
          },
          "metadata": {}
        }
      ]
    },
    {
      "cell_type": "code",
      "source": [
        "date_df = telugu_news_df[\"date\"]\n",
        "del telugu_news_df[\"date\"]"
      ],
      "metadata": {
        "id": "YQjs8SVKWR3c"
      },
      "execution_count": null,
      "outputs": []
    },
    {
      "cell_type": "code",
      "source": [
        "!pip install indic-nlp-library"
      ],
      "metadata": {
        "colab": {
          "base_uri": "https://localhost:8080/",
          "height": 832
        },
        "id": "oqqFtcfPWXZJ",
        "outputId": "dc26e02f-6a89-4fef-fcb5-af566aed0370"
      },
      "execution_count": null,
      "outputs": [
        {
          "output_type": "stream",
          "name": "stdout",
          "text": [
            "Looking in indexes: https://pypi.org/simple, https://us-python.pkg.dev/colab-wheels/public/simple/\n",
            "Collecting indic-nlp-library\n",
            "  Downloading indic_nlp_library-0.81-py3-none-any.whl (40 kB)\n",
            "\u001b[2K     \u001b[90m━━━━━━━━━━━━━━━━━━━━━━━━━━━━━━━━━━━━━━━━\u001b[0m \u001b[32m40.1/40.1 KB\u001b[0m \u001b[31m3.3 MB/s\u001b[0m eta \u001b[36m0:00:00\u001b[0m\n",
            "\u001b[?25hRequirement already satisfied: pandas in /usr/local/lib/python3.8/dist-packages (from indic-nlp-library) (1.3.5)\n",
            "Collecting morfessor\n",
            "  Downloading Morfessor-2.0.6-py3-none-any.whl (35 kB)\n",
            "Collecting sphinx-rtd-theme\n",
            "  Downloading sphinx_rtd_theme-1.2.0-py2.py3-none-any.whl (2.8 MB)\n",
            "\u001b[2K     \u001b[90m━━━━━━━━━━━━━━━━━━━━━━━━━━━━━━━━━━━━━━━━\u001b[0m \u001b[32m2.8/2.8 MB\u001b[0m \u001b[31m33.8 MB/s\u001b[0m eta \u001b[36m0:00:00\u001b[0m\n",
            "\u001b[?25hCollecting sphinx-argparse\n",
            "  Downloading sphinx_argparse-0.4.0-py3-none-any.whl (12 kB)\n",
            "Requirement already satisfied: numpy in /usr/local/lib/python3.8/dist-packages (from indic-nlp-library) (1.21.6)\n",
            "Requirement already satisfied: pytz>=2017.3 in /usr/local/lib/python3.8/dist-packages (from pandas->indic-nlp-library) (2022.7.1)\n",
            "Requirement already satisfied: python-dateutil>=2.7.3 in /usr/local/lib/python3.8/dist-packages (from pandas->indic-nlp-library) (2.8.2)\n",
            "Requirement already satisfied: sphinx>=1.2.0 in /usr/local/lib/python3.8/dist-packages (from sphinx-argparse->indic-nlp-library) (3.5.4)\n",
            "Requirement already satisfied: docutils<0.19 in /usr/local/lib/python3.8/dist-packages (from sphinx-rtd-theme->indic-nlp-library) (0.16)\n",
            "Collecting sphinxcontrib-jquery!=3.0.0,>=2.0.0\n",
            "  Downloading sphinxcontrib_jquery-2.0.0-py3-none-any.whl (3.2 kB)\n",
            "Requirement already satisfied: six>=1.5 in /usr/local/lib/python3.8/dist-packages (from python-dateutil>=2.7.3->pandas->indic-nlp-library) (1.15.0)\n",
            "Requirement already satisfied: alabaster<0.8,>=0.7 in /usr/local/lib/python3.8/dist-packages (from sphinx>=1.2.0->sphinx-argparse->indic-nlp-library) (0.7.13)\n",
            "Requirement already satisfied: sphinxcontrib-serializinghtml in /usr/local/lib/python3.8/dist-packages (from sphinx>=1.2.0->sphinx-argparse->indic-nlp-library) (1.1.5)\n",
            "Requirement already satisfied: sphinxcontrib-htmlhelp in /usr/local/lib/python3.8/dist-packages (from sphinx>=1.2.0->sphinx-argparse->indic-nlp-library) (2.0.1)\n",
            "Requirement already satisfied: sphinxcontrib-jsmath in /usr/local/lib/python3.8/dist-packages (from sphinx>=1.2.0->sphinx-argparse->indic-nlp-library) (1.0.1)\n",
            "Requirement already satisfied: sphinxcontrib-qthelp in /usr/local/lib/python3.8/dist-packages (from sphinx>=1.2.0->sphinx-argparse->indic-nlp-library) (1.0.3)\n",
            "Requirement already satisfied: Jinja2>=2.3 in /usr/local/lib/python3.8/dist-packages (from sphinx>=1.2.0->sphinx-argparse->indic-nlp-library) (2.11.3)\n",
            "Requirement already satisfied: Pygments>=2.0 in /usr/local/lib/python3.8/dist-packages (from sphinx>=1.2.0->sphinx-argparse->indic-nlp-library) (2.6.1)\n",
            "Requirement already satisfied: imagesize in /usr/local/lib/python3.8/dist-packages (from sphinx>=1.2.0->sphinx-argparse->indic-nlp-library) (1.4.1)\n",
            "Requirement already satisfied: sphinxcontrib-devhelp in /usr/local/lib/python3.8/dist-packages (from sphinx>=1.2.0->sphinx-argparse->indic-nlp-library) (1.0.2)\n",
            "Requirement already satisfied: snowballstemmer>=1.1 in /usr/local/lib/python3.8/dist-packages (from sphinx>=1.2.0->sphinx-argparse->indic-nlp-library) (2.2.0)\n",
            "Requirement already satisfied: babel>=1.3 in /usr/local/lib/python3.8/dist-packages (from sphinx>=1.2.0->sphinx-argparse->indic-nlp-library) (2.11.0)\n",
            "Requirement already satisfied: requests>=2.5.0 in /usr/local/lib/python3.8/dist-packages (from sphinx>=1.2.0->sphinx-argparse->indic-nlp-library) (2.25.1)\n",
            "Requirement already satisfied: setuptools in /usr/local/lib/python3.8/dist-packages (from sphinx>=1.2.0->sphinx-argparse->indic-nlp-library) (57.4.0)\n",
            "Requirement already satisfied: packaging in /usr/local/lib/python3.8/dist-packages (from sphinx>=1.2.0->sphinx-argparse->indic-nlp-library) (23.0)\n",
            "Requirement already satisfied: sphinxcontrib-applehelp in /usr/local/lib/python3.8/dist-packages (from sphinx>=1.2.0->sphinx-argparse->indic-nlp-library) (1.0.4)\n",
            "Requirement already satisfied: MarkupSafe>=0.23 in /usr/local/lib/python3.8/dist-packages (from Jinja2>=2.3->sphinx>=1.2.0->sphinx-argparse->indic-nlp-library) (2.0.1)\n",
            "Requirement already satisfied: idna<3,>=2.5 in /usr/local/lib/python3.8/dist-packages (from requests>=2.5.0->sphinx>=1.2.0->sphinx-argparse->indic-nlp-library) (2.10)\n",
            "Requirement already satisfied: certifi>=2017.4.17 in /usr/local/lib/python3.8/dist-packages (from requests>=2.5.0->sphinx>=1.2.0->sphinx-argparse->indic-nlp-library) (2022.12.7)\n",
            "Requirement already satisfied: chardet<5,>=3.0.2 in /usr/local/lib/python3.8/dist-packages (from requests>=2.5.0->sphinx>=1.2.0->sphinx-argparse->indic-nlp-library) (4.0.0)\n",
            "Requirement already satisfied: urllib3<1.27,>=1.21.1 in /usr/local/lib/python3.8/dist-packages (from requests>=2.5.0->sphinx>=1.2.0->sphinx-argparse->indic-nlp-library) (1.24.3)\n",
            "Installing collected packages: morfessor, sphinxcontrib-jquery, sphinx-rtd-theme, sphinx-argparse, indic-nlp-library\n",
            "Successfully installed indic-nlp-library-0.81 morfessor-2.0.6 sphinx-argparse-0.4.0 sphinx-rtd-theme-1.2.0 sphinxcontrib-jquery-2.0.0\n"
          ]
        },
        {
          "output_type": "display_data",
          "data": {
            "application/vnd.colab-display-data+json": {
              "pip_warning": {
                "packages": [
                  "sphinxcontrib"
                ]
              }
            }
          },
          "metadata": {}
        }
      ]
    },
    {
      "cell_type": "code",
      "source": [
        "!git clone https://github.com/anoopkunchukuttan/indic_nlp_resources.git"
      ],
      "metadata": {
        "colab": {
          "base_uri": "https://localhost:8080/"
        },
        "id": "0KfwOGbHWa72",
        "outputId": "00aeb639-5172-476f-9a8f-9b288aa7a2a8"
      },
      "execution_count": null,
      "outputs": [
        {
          "output_type": "stream",
          "name": "stdout",
          "text": [
            "Cloning into 'indic_nlp_resources'...\n",
            "remote: Enumerating objects: 139, done.\u001b[K\n",
            "remote: Counting objects: 100% (13/13), done.\u001b[K\n",
            "remote: Compressing objects: 100% (13/13), done.\u001b[K\n",
            "remote: Total 139 (delta 2), reused 2 (delta 0), pack-reused 126\u001b[K\n",
            "Receiving objects: 100% (139/139), 149.77 MiB | 15.88 MiB/s, done.\n",
            "Resolving deltas: 100% (53/53), done.\n",
            "Updating files: 100% (28/28), done.\n"
          ]
        }
      ]
    },
    {
      "cell_type": "code",
      "source": [
        "!git clone https://github.com/anoopkunchukuttan/indic_nlp_library.git"
      ],
      "metadata": {
        "colab": {
          "base_uri": "https://localhost:8080/"
        },
        "id": "gnl_OZV3WhDn",
        "outputId": "ccf31dec-60e0-4371-bbff-07253bb92e7c"
      },
      "execution_count": null,
      "outputs": [
        {
          "output_type": "stream",
          "name": "stdout",
          "text": [
            "Cloning into 'indic_nlp_library'...\n",
            "remote: Enumerating objects: 1325, done.\u001b[K\n",
            "remote: Counting objects:   0% (1/107)\u001b[K\rremote: Counting objects:   1% (2/107)\u001b[K\rremote: Counting objects:   2% (3/107)\u001b[K\rremote: Counting objects:   3% (4/107)\u001b[K\rremote: Counting objects:   4% (5/107)\u001b[K\rremote: Counting objects:   5% (6/107)\u001b[K\rremote: Counting objects:   6% (7/107)\u001b[K\rremote: Counting objects:   7% (8/107)\u001b[K\rremote: Counting objects:   8% (9/107)\u001b[K\rremote: Counting objects:   9% (10/107)\u001b[K\rremote: Counting objects:  10% (11/107)\u001b[K\rremote: Counting objects:  11% (12/107)\u001b[K\rremote: Counting objects:  12% (13/107)\u001b[K\rremote: Counting objects:  13% (14/107)\u001b[K\rremote: Counting objects:  14% (15/107)\u001b[K\rremote: Counting objects:  15% (17/107)\u001b[K\rremote: Counting objects:  16% (18/107)\u001b[K\rremote: Counting objects:  17% (19/107)\u001b[K\rremote: Counting objects:  18% (20/107)\u001b[K\rremote: Counting objects:  19% (21/107)\u001b[K\rremote: Counting objects:  20% (22/107)\u001b[K\rremote: Counting objects:  21% (23/107)\u001b[K\rremote: Counting objects:  22% (24/107)\u001b[K\rremote: Counting objects:  23% (25/107)\u001b[K\rremote: Counting objects:  24% (26/107)\u001b[K\rremote: Counting objects:  25% (27/107)\u001b[K\rremote: Counting objects:  26% (28/107)\u001b[K\rremote: Counting objects:  27% (29/107)\u001b[K\rremote: Counting objects:  28% (30/107)\u001b[K\rremote: Counting objects:  29% (32/107)\u001b[K\rremote: Counting objects:  30% (33/107)\u001b[K\rremote: Counting objects:  31% (34/107)\u001b[K\rremote: Counting objects:  32% (35/107)\u001b[K\rremote: Counting objects:  33% (36/107)\u001b[K\rremote: Counting objects:  34% (37/107)\u001b[K\rremote: Counting objects:  35% (38/107)\u001b[K\rremote: Counting objects:  36% (39/107)\u001b[K\rremote: Counting objects:  37% (40/107)\u001b[K\rremote: Counting objects:  38% (41/107)\u001b[K\rremote: Counting objects:  39% (42/107)\u001b[K\rremote: Counting objects:  40% (43/107)\u001b[K\rremote: Counting objects:  41% (44/107)\u001b[K\rremote: Counting objects:  42% (45/107)\u001b[K\rremote: Counting objects:  43% (47/107)\u001b[K\rremote: Counting objects:  44% (48/107)\u001b[K\rremote: Counting objects:  45% (49/107)\u001b[K\rremote: Counting objects:  46% (50/107)\u001b[K\rremote: Counting objects:  47% (51/107)\u001b[K\rremote: Counting objects:  48% (52/107)\u001b[K\rremote: Counting objects:  49% (53/107)\u001b[K\rremote: Counting objects:  50% (54/107)\u001b[K\rremote: Counting objects:  51% (55/107)\u001b[K\rremote: Counting objects:  52% (56/107)\u001b[K\rremote: Counting objects:  53% (57/107)\u001b[K\rremote: Counting objects:  54% (58/107)\u001b[K\rremote: Counting objects:  55% (59/107)\u001b[K\rremote: Counting objects:  56% (60/107)\u001b[K\rremote: Counting objects:  57% (61/107)\u001b[K\rremote: Counting objects:  58% (63/107)\u001b[K\rremote: Counting objects:  59% (64/107)\u001b[K\rremote: Counting objects:  60% (65/107)\u001b[K\rremote: Counting objects:  61% (66/107)\u001b[K\rremote: Counting objects:  62% (67/107)\u001b[K\rremote: Counting objects:  63% (68/107)\u001b[K\rremote: Counting objects:  64% (69/107)\u001b[K\rremote: Counting objects:  65% (70/107)\u001b[K\rremote: Counting objects:  66% (71/107)\u001b[K\rremote: Counting objects:  67% (72/107)\u001b[K\rremote: Counting objects:  68% (73/107)\u001b[K\rremote: Counting objects:  69% (74/107)\u001b[K\rremote: Counting objects:  70% (75/107)\u001b[K\rremote: Counting objects:  71% (76/107)\u001b[K\rremote: Counting objects:  72% (78/107)\u001b[K\rremote: Counting objects:  73% (79/107)\u001b[K\rremote: Counting objects:  74% (80/107)\u001b[K\rremote: Counting objects:  75% (81/107)\u001b[K\rremote: Counting objects:  76% (82/107)\u001b[K\rremote: Counting objects:  77% (83/107)\u001b[K\rremote: Counting objects:  78% (84/107)\u001b[K\rremote: Counting objects:  79% (85/107)\u001b[K\rremote: Counting objects:  80% (86/107)\u001b[K\rremote: Counting objects:  81% (87/107)\u001b[K\rremote: Counting objects:  82% (88/107)\u001b[K\rremote: Counting objects:  83% (89/107)\u001b[K\rremote: Counting objects:  84% (90/107)\u001b[K\rremote: Counting objects:  85% (91/107)\u001b[K\rremote: Counting objects:  86% (93/107)\u001b[K\rremote: Counting objects:  87% (94/107)\u001b[K\rremote: Counting objects:  88% (95/107)\u001b[K\rremote: Counting objects:  89% (96/107)\u001b[K\rremote: Counting objects:  90% (97/107)\u001b[K\rremote: Counting objects:  91% (98/107)\u001b[K\rremote: Counting objects:  92% (99/107)\u001b[K\rremote: Counting objects:  93% (100/107)\u001b[K\rremote: Counting objects:  94% (101/107)\u001b[K\rremote: Counting objects:  95% (102/107)\u001b[K\rremote: Counting objects:  96% (103/107)\u001b[K\rremote: Counting objects:  97% (104/107)\u001b[K\rremote: Counting objects:  98% (105/107)\u001b[K\rremote: Counting objects:  99% (106/107)\u001b[K\rremote: Counting objects: 100% (107/107)\u001b[K\rremote: Counting objects: 100% (107/107), done.\u001b[K\n",
            "remote: Compressing objects: 100% (25/25), done.\u001b[K\n",
            "remote: Total 1325 (delta 91), reused 82 (delta 82), pack-reused 1218\u001b[K\n",
            "Receiving objects: 100% (1325/1325), 9.55 MiB | 12.04 MiB/s, done.\n",
            "Resolving deltas: 100% (701/701), done.\n"
          ]
        }
      ]
    },
    {
      "cell_type": "code",
      "source": [
        "import sys\n",
        "from indicnlp import common\n",
        "INDIC_NLP_LIB_HOME=r\"indic_nlp_library\"\n",
        "INDIC_NLP_RESOURCES=r\"indic_nlp_resources\"\n",
        "sys.path.append(r'{}\\src'.format(INDIC_NLP_LIB_HOME))\n",
        "common.set_resources_path(INDIC_NLP_RESOURCES)"
      ],
      "metadata": {
        "id": "PsxaxnB1WpKr"
      },
      "execution_count": null,
      "outputs": []
    },
    {
      "cell_type": "code",
      "source": [
        "from indicnlp.tokenize import sentence_tokenize\n",
        "indic_string = telugu_news_df[\"body\"][0]\n",
        "sentences=sentence_tokenize.sentence_split(indic_string, lang='te')\n",
        "for t in sentences:\n",
        "    print(t)"
      ],
      "metadata": {
        "colab": {
          "base_uri": "https://localhost:8080/"
        },
        "id": "yL8ITQA0Wy_g",
        "outputId": "cc7d640f-b07e-4f3b-b245-9bf115b50f0d"
      },
      "execution_count": null,
      "outputs": [
        {
          "output_type": "stream",
          "name": "stdout",
          "text": [
            "భారీ ఎత్తున మొండిబకాయిలు పెరిగిపోవడంతో ఐడిబిఐ వ్యవహారాలపై భారత రిజర్వు బ్యాంకు (ఆర్‌బిఐ) ఒక కన్నేసింది.\n",
            "ఐడిబిఐ బ్యాంకును ఆర్‌బిఐ వాచ్‌లి్‌స్టలో చేర్చినట్టుగా తెలిసింది.\n",
            "నికర మొండిపద్దుల మొత్తం 6 శాతం దాటడం, వరసగా రెండేళ్ల పాటు నష్టాలను  ప్రకటించడం, కాపిటల్‌ అడెక్వసీ నిర్దేశిత ప్రమాణాల కంటే తగ్గడం. . . ఈ సందర్భాల్లో బ్యాంకులను ఆర్‌బిఐ వాచ్‌ లిస్ట్‌లో చేరుస్తుంది.\n",
            "తమ బ్యాంకుకు సంబంధించి ఆర్‌బిఐ ప్రాంప్ట్‌ కరెక్టీవ్‌ యాక్షన్‌ (పిసిఎ) చేపట్టినట్టు ఐడిబిఐ వెల్లడించింది.\n",
            "గతంలో ఓవర్సీస్‌ బ్యాంక్‌, యునైటెడ్‌ బ్యాంక్‌కు సంబంధించి  కూడా ఆర్‌బిఐ పిసిఎ చేపట్టింది.\n",
            "పిసిఎ వల్ల బ్యాంకుపై ఆర్థికంగా భారం పడదనీ, దీనివల్ల అంతర్గత నియంత్రణలు మెరుగుపడటంతో పాటు, కార్యకలాపాలు మెరుగవుతాయని ఐడిబిఐ వివరించింది.\n",
            "ఆర్‌బిఐ ఆదేశాలకు అనుగుణంగా ఇప్పుడు మూలధనాన్ని పొదుపుగా వినియోగించడంపై  ఐడిబిఐ దృష్టి సారించాల్సి ఉంటుంది.\n",
            "ఇందులో భాగంగా పరపతిపై నియంత్రణలు విధించడం, నియామకాలను నిలిపేయడం, కొత్త పెట్టుబడి పథకాలను పక్కన బెట్టడంవంటి చర్యలు తీసుకోవాల్సి ఉంటుం ది.\n",
            "బ్యాంకు సరైన రీతిలో స్పందించని పక్షంలో మరో బలమైన బ్యాంకులో  విలీనానికి  సిద్ధం కావాల్సి ఉంటుంది.\n"
          ]
        }
      ]
    },
    {
      "cell_type": "code",
      "source": [
        "telugu_news_df[\"body_processed\"] = telugu_news_df[\"body\"].str.replace('\\u200c','')\n",
        "telugu_news_df[\"body_processed\"] = telugu_news_df[\"body_processed\"].str.replace('\\n','')\n",
        "telugu_news_df[\"body_processed\"] = telugu_news_df[\"body_processed\"].str.replace('\\t','')\n",
        "telugu_news_df[\"body_processed\"] = telugu_news_df[\"body_processed\"].str.replace('\\xa0','')"
      ],
      "metadata": {
        "id": "gwZneHHbW3mG"
      },
      "execution_count": null,
      "outputs": []
    },
    {
      "cell_type": "code",
      "source": [
        "PUNCT = string.punctuation\n",
        "def remove_punctuation(text):\n",
        "    return text.translate(str.maketrans('','',PUNCT))"
      ],
      "metadata": {
        "id": "Htud5vJwW-q8"
      },
      "execution_count": null,
      "outputs": []
    },
    {
      "cell_type": "code",
      "source": [
        "telugu_news_df[\"body_processed\"][1024]"
      ],
      "metadata": {
        "colab": {
          "base_uri": "https://localhost:8080/",
          "height": 53
        },
        "id": "AyjoZH15XFBe",
        "outputId": "a2e4e9aa-083a-4673-dbed-e4664471bff8"
      },
      "execution_count": null,
      "outputs": [
        {
          "output_type": "execute_result",
          "data": {
            "text/plain": [
              "'భారత రహస్యంగా అణు నగరాన్ని నిర్మిస్తోంది. అణ్వాయుధ సంపత్తిని రోజురోజుకీ పెంచుకుంటున్న భారత.. ఉపఖండంలో ప్రశాంత వాతావరణాన్ని దెబ్బతీస్తోంది. అంతేకాక ఖండాతర క్షిపణులను కూడా పరీక్షిస్తూ ఆయుధ పోటీకి తెరతీస్తోంది. భారత దుందుడుకు చర్యలను అంతర్జాతీయ సమాజం అడ్డుకోవాలి.- నఫీజ్ జకారియాపాకిస్థాన్ విదేశాంగ శాఖ ప్రతినిధి'"
            ],
            "application/vnd.google.colaboratory.intrinsic+json": {
              "type": "string"
            }
          },
          "metadata": {},
          "execution_count": 19
        }
      ]
    },
    {
      "cell_type": "code",
      "source": [
        "from indicnlp.tokenize import sentence_tokenize\n",
        "tot_telugu_text1 = \"\"\n",
        "for t in telugu_news_df[\"body_processed\"]:\n",
        "  tot_telugu_text1 += t\n",
        "tot_sentences = sentence_tokenize.sentence_split(tot_telugu_text1,lang='te')\n",
        "print(len(tot_sentences))"
      ],
      "metadata": {
        "colab": {
          "base_uri": "https://localhost:8080/"
        },
        "id": "WLaFufPcXKHF",
        "outputId": "a2249064-a210-4540-dbf2-22a1925033ba"
      },
      "execution_count": null,
      "outputs": [
        {
          "output_type": "stream",
          "name": "stdout",
          "text": [
            "273291\n"
          ]
        }
      ]
    },
    {
      "cell_type": "code",
      "source": [
        "telugu_news_df[\"body_processed\"] = telugu_news_df[\"body_processed\"].apply(lambda text: remove_punctuation(text))"
      ],
      "metadata": {
        "id": "EBwMK3ZbXSBe"
      },
      "execution_count": null,
      "outputs": []
    },
    {
      "cell_type": "code",
      "source": [
        "del telugu_news_df[\"body\"]"
      ],
      "metadata": {
        "id": "Tbl9VH8eXV87"
      },
      "execution_count": null,
      "outputs": []
    },
    {
      "cell_type": "code",
      "source": [
        "tot_telugu_text = \"\"\n",
        "c = 1\n",
        "for t in telugu_news_df[\"body_processed\"]:\n",
        "  tot_telugu_text += t\n",
        "  c += 1\n",
        "print(c)"
      ],
      "metadata": {
        "colab": {
          "base_uri": "https://localhost:8080/"
        },
        "id": "CFz18xHvXaJi",
        "outputId": "a44a99e0-5a43-4c88-cf78-c68497187ea1"
      },
      "execution_count": null,
      "outputs": [
        {
          "output_type": "stream",
          "name": "stdout",
          "text": [
            "17313\n"
          ]
        }
      ]
    },
    {
      "cell_type": "code",
      "source": [
        "len(tot_telugu_text)"
      ],
      "metadata": {
        "colab": {
          "base_uri": "https://localhost:8080/"
        },
        "id": "4cEsJmpIXep_",
        "outputId": "4ad8c21a-349e-413e-e951-78909802da0a"
      },
      "execution_count": null,
      "outputs": [
        {
          "output_type": "execute_result",
          "data": {
            "text/plain": [
              "23917934"
            ]
          },
          "metadata": {},
          "execution_count": 24
        }
      ]
    },
    {
      "cell_type": "code",
      "source": [
        "from indicnlp.tokenize import indic_tokenize  \n",
        "vocab_dic  = {}\n",
        "tokenized_text = []\n",
        "heap_arr = []\n",
        "for t in indic_tokenize.trivial_tokenize(tot_telugu_text):\n",
        "    tokenized_text.append(t)\n",
        "    heap_arr.append(len(vocab_dic))\n",
        "    if t not in vocab_dic:\n",
        "      vocab_dic[t] = 1\n",
        "    else:\n",
        "      vocab_dic[t] += 1"
      ],
      "metadata": {
        "id": "ec1TEU9iXhr3"
      },
      "execution_count": null,
      "outputs": []
    },
    {
      "cell_type": "code",
      "source": [
        "len(vocab_dic), len(tokenized_text), len(heap_arr)"
      ],
      "metadata": {
        "colab": {
          "base_uri": "https://localhost:8080/"
        },
        "id": "KYMXwUcYXmOl",
        "outputId": "dd8749ad-8579-4d3e-e1ae-fff0933d971b"
      },
      "execution_count": null,
      "outputs": [
        {
          "output_type": "execute_result",
          "data": {
            "text/plain": [
              "(328911, 2932015, 2932015)"
            ]
          },
          "metadata": {},
          "execution_count": 26
        }
      ]
    },
    {
      "cell_type": "code",
      "source": [
        "from nltk.probability import FreqDist \n",
        "freq_dist = FreqDist(vocab_dic)"
      ],
      "metadata": {
        "id": "gAztJN2EXsar"
      },
      "execution_count": null,
      "outputs": []
    },
    {
      "cell_type": "code",
      "source": [
        "plt.figure(figsize = (15,6))\n",
        "plt.plot(heap_arr)\n",
        "plt.title(\"Heap's law graph\")\n",
        "plt.xlabel(\"Vocabulary size\")\n",
        "plt.ylabel(\"No.of words in the corpus (text size)\")\n",
        "plt.show()"
      ],
      "metadata": {
        "colab": {
          "base_uri": "https://localhost:8080/",
          "height": 404
        },
        "id": "IE21Cof_XwTK",
        "outputId": "cfd882d8-5343-436e-ee04-3c35d0df68aa"
      },
      "execution_count": null,
      "outputs": [
        {
          "output_type": "display_data",
          "data": {
            "text/plain": [
              "<Figure size 1080x432 with 1 Axes>"
            ],
            "image/png": "[encoded data removed]"
          },
          "metadata": {
            "needs_background": "light"
          }
        }
      ]
    },
    {
      "cell_type": "code",
      "source": [
        "vocab_dic_sorted = {k: v for k, v in sorted(vocab_dic.items(), key=lambda item: item[1], reverse = True)}"
      ],
      "metadata": {
        "id": "XF-MZcB9Xz7X"
      },
      "execution_count": null,
      "outputs": []
    },
    {
      "cell_type": "code",
      "source": [
        "top_k_words = []\n",
        "k = 50\n",
        "c = 0\n",
        "for key in vocab_dic_sorted.keys():\n",
        "  if c == k:\n",
        "    break\n",
        "  top_k_words.append([key, vocab_dic_sorted[key]])\n",
        "  c += 1"
      ],
      "metadata": {
        "id": "ZVOLUf3mX2p1"
      },
      "execution_count": null,
      "outputs": []
    },
    {
      "cell_type": "code",
      "source": [
        "top_k_words_df = pd.DataFrame(top_k_words)\n",
        "top_k_words_df.columns = [\"word\", \"freq\"]\n",
        "top_k_words_df.head()"
      ],
      "metadata": {
        "colab": {
          "base_uri": "https://localhost:8080/",
          "height": 206
        },
        "id": "H0eDjHJuX6fE",
        "outputId": "8f4862bd-22f7-4837-a2aa-2d2ca9408ea3"
      },
      "execution_count": null,
      "outputs": [
        {
          "output_type": "execute_result",
          "data": {
            "text/plain": [
              "    word   freq\n",
              "0      ఈ  38682\n",
              "1   కూడా  16856\n",
              "2      ఆ  15523\n",
              "3  నుంచి  12650\n",
              "4    ఆయన   9968"
            ],
            "text/html": [
              "\n",
              "  <div id=\"df-85e870f9-d1a8-471d-afef-78ae73bb124a\">\n",
              "    <div class=\"colab-df-container\">\n",
              "      <div>\n",
              "<style scoped>\n",
              "    .dataframe tbody tr th:only-of-type {\n",
              "        vertical-align: middle;\n",
              "    }\n",
              "\n",
              "    .dataframe tbody tr th {\n",
              "        vertical-align: top;\n",
              "    }\n",
              "\n",
              "    .dataframe thead th {\n",
              "        text-align: right;\n",
              "    }\n",
              "</style>\n",
              "<table border=\"1\" class=\"dataframe\">\n",
              "  <thead>\n",
              "    <tr style=\"text-align: right;\">\n",
              "      <th></th>\n",
              "      <th>word</th>\n",
              "      <th>freq</th>\n",
              "    </tr>\n",
              "  </thead>\n",
              "  <tbody>\n",
              "    <tr>\n",
              "      <th>0</th>\n",
              "      <td>ఈ</td>\n",
              "      <td>38682</td>\n",
              "    </tr>\n",
              "    <tr>\n",
              "      <th>1</th>\n",
              "      <td>కూడా</td>\n",
              "      <td>16856</td>\n",
              "    </tr>\n",
              "    <tr>\n",
              "      <th>2</th>\n",
              "      <td>ఆ</td>\n",
              "      <td>15523</td>\n",
              "    </tr>\n",
              "    <tr>\n",
              "      <th>3</th>\n",
              "      <td>నుంచి</td>\n",
              "      <td>12650</td>\n",
              "    </tr>\n",
              "    <tr>\n",
              "      <th>4</th>\n",
              "      <td>ఆయన</td>\n",
              "      <td>9968</td>\n",
              "    </tr>\n",
              "  </tbody>\n",
              "</table>\n",
              "</div>\n",
              "      <button class=\"colab-df-convert\" onclick=\"convertToInteractive('df-85e870f9-d1a8-471d-afef-78ae73bb124a')\"\n",
              "              title=\"Convert this dataframe to an interactive table.\"\n",
              "              style=\"display:none;\">\n",
              "        \n",
              "  <svg xmlns=\"http://www.w3.org/2000/svg\" height=\"24px\"viewBox=\"0 0 24 24\"\n",
              "       width=\"24px\">\n",
              "    <path d=\"M0 0h24v24H0V0z\" fill=\"none\"/>\n",
              "    <path d=\"M18.56 5.44l.94 2.06.94-2.06 2.06-.94-2.06-.94-.94-2.06-.94 2.06-2.06.94zm-11 1L8.5 8.5l.94-2.06 2.06-.94-2.06-.94L8.5 2.5l-.94 2.06-2.06.94zm10 10l.94 2.06.94-2.06 2.06-.94-2.06-.94-.94-2.06-.94 2.06-2.06.94z\"/><path d=\"M17.41 7.96l-1.37-1.37c-.4-.4-.92-.59-1.43-.59-.52 0-1.04.2-1.43.59L10.3 9.45l-7.72 7.72c-.78.78-.78 2.05 0 2.83L4 21.41c.39.39.9.59 1.41.59.51 0 1.02-.2 1.41-.59l7.78-7.78 2.81-2.81c.8-.78.8-2.07 0-2.86zM5.41 20L4 18.59l7.72-7.72 1.47 1.35L5.41 20z\"/>\n",
              "  </svg>\n",
              "      </button>\n",
              "      \n",
              "  <style>\n",
              "    .colab-df-container {\n",
              "      display:flex;\n",
              "      flex-wrap:wrap;\n",
              "      gap: 12px;\n",
              "    }\n",
              "\n",
              "    .colab-df-convert {\n",
              "      background-color: #E8F0FE;\n",
              "      border: none;\n",
              "      border-radius: 50%;\n",
              "      cursor: pointer;\n",
              "      display: none;\n",
              "      fill: #1967D2;\n",
              "      height: 32px;\n",
              "      padding: 0 0 0 0;\n",
              "      width: 32px;\n",
              "    }\n",
              "\n",
              "    .colab-df-convert:hover {\n",
              "      background-color: #E2EBFA;\n",
              "      box-shadow: 0px 1px 2px rgba(60, 64, 67, 0.3), 0px 1px 3px 1px rgba(60, 64, 67, 0.15);\n",
              "      fill: #174EA6;\n",
              "    }\n",
              "\n",
              "    [theme=dark] .colab-df-convert {\n",
              "      background-color: #3B4455;\n",
              "      fill: #D2E3FC;\n",
              "    }\n",
              "\n",
              "    [theme=dark] .colab-df-convert:hover {\n",
              "      background-color: #434B5C;\n",
              "      box-shadow: 0px 1px 3px 1px rgba(0, 0, 0, 0.15);\n",
              "      filter: drop-shadow(0px 1px 2px rgba(0, 0, 0, 0.3));\n",
              "      fill: #FFFFFF;\n",
              "    }\n",
              "  </style>\n",
              "\n",
              "      <script>\n",
              "        const buttonEl =\n",
              "          document.querySelector('#df-85e870f9-d1a8-471d-afef-78ae73bb124a button.colab-df-convert');\n",
              "        buttonEl.style.display =\n",
              "          google.colab.kernel.accessAllowed ? 'block' : 'none';\n",
              "\n",
              "        async function convertToInteractive(key) {\n",
              "          const element = document.querySelector('#df-85e870f9-d1a8-471d-afef-78ae73bb124a');\n",
              "          const dataTable =\n",
              "            await google.colab.kernel.invokeFunction('convertToInteractive',\n",
              "                                                     [key], {});\n",
              "          if (!dataTable) return;\n",
              "\n",
              "          const docLinkHtml = 'Like what you see? Visit the ' +\n",
              "            '<a target=\"_blank\" href=https://colab.research.google.com/notebooks/data_table.ipynb>data table notebook</a>'\n",
              "            + ' to learn more about interactive tables.';\n",
              "          element.innerHTML = '';\n",
              "          dataTable['output_type'] = 'display_data';\n",
              "          await google.colab.output.renderOutput(dataTable, element);\n",
              "          const docLink = document.createElement('div');\n",
              "          docLink.innerHTML = docLinkHtml;\n",
              "          element.appendChild(docLink);\n",
              "        }\n",
              "      </script>\n",
              "    </div>\n",
              "  </div>\n",
              "  "
            ]
          },
          "metadata": {},
          "execution_count": 31
        }
      ]
    },
    {
      "cell_type": "code",
      "source": [
        "plt.figure(figsize = (15,6))\n",
        "plt.plot(top_k_words_df[\"freq\"])\n",
        "plt.title(\"Top 50 words in the telugu corpus\")\n",
        "plt.xlabel(\"No.of words\")\n",
        "plt.ylabel(\"Frequency of the word\")\n",
        "plt.show()"
      ],
      "metadata": {
        "colab": {
          "base_uri": "https://localhost:8080/",
          "height": 404
        },
        "id": "9mKVDBY8YFcc",
        "outputId": "5400150f-5bc0-418a-f28a-f76b6e6e3fb5"
      },
      "execution_count": null,
      "outputs": [
        {
          "output_type": "display_data",
          "data": {
            "text/plain": [
              "<Figure size 1080x432 with 1 Axes>"
            ],
            "image/png": "[encoded data removed]"
          },
          "metadata": {
            "needs_background": "light"
          }
        }
      ]
    },
    {
      "cell_type": "code",
      "source": [
        "telugu_words = list(vocab_dic_sorted.keys())"
      ],
      "metadata": {
        "id": "qY1LhHEuYKaY"
      },
      "execution_count": null,
      "outputs": []
    },
    {
      "cell_type": "code",
      "source": [
        "tot_sentences_proc = []\n",
        "for sen in tot_sentences:\n",
        "  tot_sentences_proc.append(remove_punctuation(sen))"
      ],
      "metadata": {
        "id": "B_aXQBXHYNjW"
      },
      "execution_count": null,
      "outputs": []
    },
    {
      "cell_type": "code",
      "source": [
        "tot_sentences_proc[0]"
      ],
      "metadata": {
        "colab": {
          "base_uri": "https://localhost:8080/",
          "height": 36
        },
        "id": "zwzPPd0SYRy5",
        "outputId": "d41a45a0-d275-4d04-b886-448f1fa38724"
      },
      "execution_count": null,
      "outputs": [
        {
          "output_type": "execute_result",
          "data": {
            "text/plain": [
              "'భారీ ఎత్తున మొండిబకాయిలు పెరిగిపోవడంతో ఐడిబిఐ వ్యవహారాలపై భారత రిజర్వు బ్యాంకు ఆర్బిఐ ఒక కన్నేసింది'"
            ],
            "application/vnd.google.colaboratory.intrinsic+json": {
              "type": "string"
            }
          },
          "metadata": {},
          "execution_count": 35
        }
      ]
    },
    {
      "cell_type": "code",
      "source": [
        "from nltk.util import ngrams\n",
        "bigrams_telugu_vocab = {}\n",
        "for sen in tot_sentences_proc:\n",
        "  tokens = indic_tokenize.trivial_tokenize(sen)\n",
        "  bigram = list(ngrams(tokens, 2)) \n",
        "  for big in bigram:\n",
        "    if tuple(big) not in bigrams_telugu_vocab:\n",
        "      bigrams_telugu_vocab[tuple(big)] = 1\n",
        "    else:\n",
        "      bigrams_telugu_vocab[tuple(big)] += 1"
      ],
      "metadata": {
        "id": "g-FPKxCSYUly"
      },
      "execution_count": null,
      "outputs": []
    },
    {
      "cell_type": "code",
      "source": [
        "bigrams_telugu_vocab = {k: v for k, v in sorted(bigrams_telugu_vocab.items(), key=lambda item: item[1], reverse = True)}\n",
        "print(\"Total no.of unique bi-grams :- \", len(bigrams_telugu_vocab))"
      ],
      "metadata": {
        "colab": {
          "base_uri": "https://localhost:8080/"
        },
        "id": "_koKv8jpYZJb",
        "outputId": "29fb11e1-685f-477d-eb2f-17cc81148fcf"
      },
      "execution_count": null,
      "outputs": [
        {
          "output_type": "stream",
          "name": "stdout",
          "text": [
            "Total no.of unique bi-grams :-  1609783\n"
          ]
        }
      ]
    },
    {
      "cell_type": "code",
      "source": [
        "k = 30\n",
        "print(\"Top\" ,k ,\"most-occuring bi-grams in the corpus are\\n\")\n",
        "c = 0\n",
        "for key in bigrams_telugu_vocab:\n",
        "  if c == k:\n",
        "    break\n",
        "  print(key , \" -> \", bigrams_telugu_vocab[key])\n",
        "  c += 1"
      ],
      "metadata": {
        "colab": {
          "base_uri": "https://localhost:8080/"
        },
        "id": "gK7UA-GzYbZN",
        "outputId": "6ded7d00-50b4-4075-8505-29d07e15b6ac"
      },
      "execution_count": null,
      "outputs": [
        {
          "output_type": "stream",
          "name": "stdout",
          "text": [
            "Top 30 most-occuring bi-grams in the corpus are\n",
            "\n",
            "('ఈ', 'సినిమా')  ->  2016\n",
            "('ఆ', 'తర్వాత')  ->  1275\n",
            "('ఈ', 'ఏడాది')  ->  995\n",
            "('కోట్ల', 'రూపాయల')  ->  976\n",
            "('ఈ', 'సందర్భంగా')  ->  963\n",
            "('సంగతి', 'తెలిసిందే')  ->  898\n",
            "('అయితే', 'ఈ')  ->  824\n",
            "('విషయం', 'తెలిసిందే')  ->  808\n",
            "('ఈ', 'నేపథ్యంలో')  ->  800\n",
            "('ఈ', 'సినిమాలో')  ->  794\n",
            "('ఈ', 'నెల')  ->  788\n",
            "('నోట్ల', 'రద్దు')  ->  767\n",
            "('వ్యక్తం', 'చేశారు')  ->  720\n",
            "('గత', 'ఏడాది')  ->  670\n",
            "('నరేంద్ర', 'మోదీ')  ->  659\n",
            "('ప్రధాని', 'మోదీ')  ->  640\n",
            "('సోషల్', 'మీడియాలో')  ->  630\n",
            "('ఈ', 'చిత్రం')  ->  629\n",
            "('ఆయన', 'చెప్పారు')  ->  556\n",
            "('పెద్ద', 'నోట్ల')  ->  542\n",
            "('కేంద్ర', 'ప్రభుత్వం')  ->  534\n",
            "('ఆ', 'సినిమా')  ->  531\n",
            "('అవకాశం', 'ఉంది')  ->  518\n",
            "('ఈ', 'మేరకు')  ->  502\n",
            "('స్పష్టం', 'చేశారు')  ->  490\n",
            "('ఇప్పటి', 'వరకు')  ->  466\n",
            "('ఈ', 'విషయాన్ని')  ->  461\n",
            "('ఆ', 'పార్టీ')  ->  451\n",
            "('చాలా', 'మంది')  ->  450\n",
            "('కోట్ల', 'రూపాయలు')  ->  441\n"
          ]
        }
      ]
    },
    {
      "cell_type": "code",
      "source": [
        "trigrams_telugu_vocab = {}\n",
        "for sen in tot_sentences_proc:\n",
        "  tokens = indic_tokenize.trivial_tokenize(sen)\n",
        "  trigram = list(ngrams(tokens, 3)) \n",
        "  for trig in trigram:\n",
        "    if tuple(trig) not in trigrams_telugu_vocab:\n",
        "      trigrams_telugu_vocab[tuple(trig)] = 1\n",
        "    else:\n",
        "      trigrams_telugu_vocab[tuple(trig)] += 1\n",
        "trigrams_telugu_vocab = {k: v for k, v in sorted(trigrams_telugu_vocab.items(), key=lambda item: item[1], reverse = True)}"
      ],
      "metadata": {
        "id": "XZI4SyfjYlp8"
      },
      "execution_count": null,
      "outputs": []
    },
    {
      "cell_type": "code",
      "source": [
        "k = 30\n",
        "print(\"Top\" ,k ,\"most-occuring tri-grams in the corpus are\\n\")\n",
        "c = 0\n",
        "for key in trigrams_telugu_vocab:\n",
        "  if c == k:\n",
        "    break\n",
        "  print(key , \" -> \", trigrams_telugu_vocab[key])\n",
        "  c += 1"
      ],
      "metadata": {
        "colab": {
          "base_uri": "https://localhost:8080/"
        },
        "id": "o6zBALZnYn7W",
        "outputId": "ce23f8c5-8f3d-4380-98c1-7620710f7844"
      },
      "execution_count": null,
      "outputs": [
        {
          "output_type": "stream",
          "name": "stdout",
          "text": [
            "Top 30 most-occuring tri-grams in the corpus are\n",
            "\n",
            "('పెద్ద', 'నోట్ల', 'రద్దు')  ->  427\n",
            "('హైదరాబాద్', 'ఆంధ్రజ్యోతి', 'బిజినెస్')  ->  240\n",
            "('ప్రధాని', 'నరేంద్ర', 'మోదీ')  ->  219\n",
            "('కోట్ల', 'రూపాయల', 'నుంచి')  ->  165\n",
            "('మంత్రి', 'అరుణ్', 'జైట్లీ')  ->  156\n",
            "('ప్రధాన', 'మంత్రి', 'నరేంద్ర')  ->  152\n",
            "('ఆర్థిక', 'మంత్రి', 'అరుణ్')  ->  136\n",
            "('సమయానికి', 'క్లోజ్', 'చేసుకోవాలి')  ->  124\n",
            "('మంత్రి', 'నరేంద్ర', 'మోదీ')  ->  118\n",
            "('ఈ', 'సినిమా', 'షూటింగ్')  ->  115\n",
            "('కాంగ్రెస్', 'ఉపాధ్యక్షుడు', 'రాహుల్')  ->  113\n",
            "('అమెరికా', 'అధ్యక్షుడు', 'డొనాల్డ్')  ->  108\n",
            "('అధ్యక్షుడు', 'డొనాల్డ్', 'ట్రంప్')  ->  107\n",
            "('ఈ', 'సినిమా', 'కోసం')  ->  106\n",
            "('ఉపాధ్యక్షుడు', 'రాహుల్', 'గాంధీ')  ->  106\n",
            "('చేసిన', 'సంగతి', 'తెలిసిందే')  ->  105\n",
            "('కేంద్ర', 'ఆర్థిక', 'మంత్రి')  ->  99\n",
            "('ఈ', 'సందర్భంగా', 'ఆయన')  ->  98\n",
            "('భారతీయ', 'జనతా', 'పార్టీ')  ->  96\n",
            "('ఆగ్రహం', 'వ్యక్తం', 'చేశారు')  ->  94\n",
            "('ప్రధాన', 'మద్దతు', 'స్థాయి')  ->  93\n",
            "('నోట్ల', 'రద్దు', 'వల్ల')  ->  89\n",
            "('ఆవేదన', 'వ్యక్తం', 'చేశారు')  ->  86\n",
            "('కాంగ్రెస్', 'సీనియర్', 'నేత')  ->  84\n",
            "('నోట్ల', 'రద్దు', 'తర్వాత')  ->  83\n",
            "('బ్యాంక్', 'ఆఫ్', 'ఇండియా')  ->  81\n",
            "('లాంగ్', 'పొజిషన్లు', 'తీసుకుని')  ->  80\n",
            "('ట్రేడింగ్కు', 'ప్రారంభ', 'స్థాయి')  ->  77\n",
            "('ప్రారంభ', 'స్థాయి', 'కీలకం')  ->  77\n",
            "('అంతకన్నా', 'దిగువన', 'మాత్రమే')  ->  77\n"
          ]
        }
      ]
    },
    {
      "cell_type": "code",
      "source": [
        "print(\"Total no.of unique tri-grams :- \", len(trigrams_telugu_vocab))"
      ],
      "metadata": {
        "colab": {
          "base_uri": "https://localhost:8080/"
        },
        "id": "5kRYHNhZYr07",
        "outputId": "89da6524-c9af-4b02-e5d5-f9e08e332b53"
      },
      "execution_count": null,
      "outputs": [
        {
          "output_type": "stream",
          "name": "stdout",
          "text": [
            "Total no.of unique tri-grams :-  1998929\n"
          ]
        }
      ]
    },
    {
      "cell_type": "code",
      "source": [
        "four_grams_telugu_vocab = {}\n",
        "for sen in tot_sentences_proc:\n",
        "  tokens = indic_tokenize.trivial_tokenize(sen)\n",
        "  fourgram = list(ngrams(tokens, 4)) \n",
        "  for fourg in fourgram:\n",
        "    if tuple(fourg) not in four_grams_telugu_vocab:\n",
        "      four_grams_telugu_vocab[tuple(fourg)] = 1\n",
        "    else:\n",
        "      four_grams_telugu_vocab[tuple(fourg)] += 1\n",
        "four_grams_telugu_vocab = {k: v for k, v in sorted(four_grams_telugu_vocab.items(), key=lambda item: item[1], reverse = True)}"
      ],
      "metadata": {
        "id": "NOi3K1woYt2H"
      },
      "execution_count": null,
      "outputs": []
    },
    {
      "cell_type": "code",
      "source": [
        "k = 30\n",
        "print(\"Top\" ,k ,\"most-occuring 4-grams in the corpus are\\n\")\n",
        "c = 0\n",
        "for key in four_grams_telugu_vocab:\n",
        "  if c == k:\n",
        "    break\n",
        "  print(key , \" -> \", four_grams_telugu_vocab[key])\n",
        "  c += 1"
      ],
      "metadata": {
        "colab": {
          "base_uri": "https://localhost:8080/"
        },
        "id": "QKiA01ZKYxuE",
        "outputId": "9f796655-6e7e-4481-cd58-7e32664dd85a"
      },
      "execution_count": null,
      "outputs": [
        {
          "output_type": "stream",
          "name": "stdout",
          "text": [
            "Top 30 most-occuring 4-grams in the corpus are\n",
            "\n",
            "('ఆర్థిక', 'మంత్రి', 'అరుణ్', 'జైట్లీ')  ->  119\n",
            "('ప్రధాన', 'మంత్రి', 'నరేంద్ర', 'మోదీ')  ->  117\n",
            "('కాంగ్రెస్', 'ఉపాధ్యక్షుడు', 'రాహుల్', 'గాంధీ')  ->  89\n",
            "('అమెరికా', 'అధ్యక్షుడు', 'డొనాల్డ్', 'ట్రంప్')  ->  87\n",
            "('ట్రేడింగ్కు', 'ప్రారంభ', 'స్థాయి', 'కీలకం')  ->  77\n",
            "('అంతకన్నా', 'దిగువన', 'మాత్రమే', 'షార్ట్')  ->  77\n",
            "('దిగువన', 'మాత్రమే', 'షార్ట్', 'పొజిషన్లు')  ->  77\n",
            "('మాత్రమే', 'షార్ట్', 'పొజిషన్లు', 'శ్రేయస్కరం')  ->  77\n",
            "('ఇంట్రాడే', 'ట్రేడింగ్కు', 'ప్రారంభ', 'స్థాయి')  ->  75\n",
            "('ట్రేడింగ్', 'వ్యూహం', 'నిఫ్టీ', 'ఫ్యూచర్స్')  ->  70\n",
            "('కేంద్ర', 'ఆర్థిక', 'మంత్రి', 'అరుణ్')  ->  69\n",
            "('వాస్తవిక', 'కదలికల', 'ఆధారంగా', 'నిర్ణయాలు')  ->  66\n",
            "('కదలికల', 'ఆధారంగా', 'నిర్ణయాలు', 'తీసుకోవాలి')  ->  66\n",
            "('మార్కెట్', 'వాస్తవిక', 'కదలికల', 'ఆధారంగా')  ->  65\n",
            "('అంశాల', 'ఆధారంగా', 'ఇచ్చిన', 'సూచన')  ->  63\n",
            "('ఇది', 'పూర్తిగా', 'ఆస్ర్టోటెక్నికల్', 'అంశాల')  ->  62\n",
            "('పూర్తిగా', 'ఆస్ర్టోటెక్నికల్', 'అంశాల', 'ఆధారంగా')  ->  62\n",
            "('ఆస్ర్టోటెక్నికల్', 'అంశాల', 'ఆధారంగా', 'ఇచ్చిన')  ->  61\n",
            "('సమయానికి', 'ప్రారంభ', 'స్థాయిసగటు', 'ఎటిపి')  ->  55\n",
            "('ప్రారంభ', 'స్థాయిసగటు', 'ఎటిపి', 'కన్నా')  ->  55\n",
            "('ఈ', 'సందర్భంగా', 'ఆయన', 'మాట్లాడుతూ')  ->  50\n",
            "('కోట్ల', 'రూపాయల', 'నికర', 'లాభాన్ని')  ->  49\n",
            "('పెద్ద', 'నోట్ల', 'రద్దు', 'తర్వాత')  ->  49\n",
            "('పెద్ద', 'నోట్ల', 'రద్దు', 'వల్ల')  ->  45\n",
            "('నేనే', 'రాజు', 'నేనే', 'మంత్రి')  ->  45\n",
            "('హోం', 'మంత్రి', 'రాజ్నాథ్', 'సింగ్')  ->  38\n",
            "('‘మ్యాన్', 'ఆఫ్', 'ద', 'మ్యాచ్’')  ->  37\n",
            "('మాజీ', 'ప్రధాని', 'మన్మోహన్', 'సింగ్')  ->  36\n",
            "('రాశుల', 'వారు', 'అప్రమత్తంగా', 'ఉండాలి')  ->  36\n",
            "('కోట్ల', 'రూపాయల', 'విలువ', 'గల')  ->  35\n"
          ]
        }
      ]
    },
    {
      "cell_type": "code",
      "source": [
        "print(\"Total no.of unique 4-grams :- \", len(four_grams_telugu_vocab))"
      ],
      "metadata": {
        "colab": {
          "base_uri": "https://localhost:8080/"
        },
        "id": "l2ESF-5JY1Ss",
        "outputId": "8ed72601-6d8e-4682-de4c-f31f93d6a0e4"
      },
      "execution_count": null,
      "outputs": [
        {
          "output_type": "stream",
          "name": "stdout",
          "text": [
            "Total no.of unique 4-grams :-  1882201\n"
          ]
        }
      ]
    },
    {
      "cell_type": "code",
      "source": [
        "five_grams_telugu_vocab = {}\n",
        "for sen in tot_sentences_proc:\n",
        "  tokens = indic_tokenize.trivial_tokenize(sen)\n",
        "  fivegram = list(ngrams(tokens, 5)) \n",
        "  for fiveg in fivegram:\n",
        "    if tuple(fiveg) not in five_grams_telugu_vocab:\n",
        "      five_grams_telugu_vocab[tuple(fiveg)] = 1\n",
        "    else:\n",
        "      five_grams_telugu_vocab[tuple(fiveg)] += 1\n",
        "five_grams_telugu_vocab = {k: v for k, v in sorted(five_grams_telugu_vocab.items(), key=lambda item: item[1], reverse = True)}"
      ],
      "metadata": {
        "id": "OxS91C4WY4Cy"
      },
      "execution_count": null,
      "outputs": []
    },
    {
      "cell_type": "code",
      "source": [
        "k = 30\n",
        "print(\"Top\" ,k ,\"most-occuring 5-grams in the corpus are\\n\")\n",
        "c = 0\n",
        "for key in five_grams_telugu_vocab:\n",
        "  if c == k:\n",
        "    break\n",
        "  print(key , \" -> \", five_grams_telugu_vocab[key])\n",
        "  c += 1"
      ],
      "metadata": {
        "colab": {
          "base_uri": "https://localhost:8080/"
        },
        "id": "QoJUrY9kY706",
        "outputId": "f4722a1a-8e4f-4422-872e-4ef7630c92bd"
      },
      "execution_count": null,
      "outputs": [
        {
          "output_type": "stream",
          "name": "stdout",
          "text": [
            "Top 30 most-occuring 5-grams in the corpus are\n",
            "\n",
            "('అంతకన్నా', 'దిగువన', 'మాత్రమే', 'షార్ట్', 'పొజిషన్లు')  ->  77\n",
            "('దిగువన', 'మాత్రమే', 'షార్ట్', 'పొజిషన్లు', 'శ్రేయస్కరం')  ->  77\n",
            "('ఇంట్రాడే', 'ట్రేడింగ్కు', 'ప్రారంభ', 'స్థాయి', 'కీలకం')  ->  75\n",
            "('వాస్తవిక', 'కదలికల', 'ఆధారంగా', 'నిర్ణయాలు', 'తీసుకోవాలి')  ->  66\n",
            "('మార్కెట్', 'వాస్తవిక', 'కదలికల', 'ఆధారంగా', 'నిర్ణయాలు')  ->  65\n",
            "('ఇది', 'పూర్తిగా', 'ఆస్ర్టోటెక్నికల్', 'అంశాల', 'ఆధారంగా')  ->  62\n",
            "('పూర్తిగా', 'ఆస్ర్టోటెక్నికల్', 'అంశాల', 'ఆధారంగా', 'ఇచ్చిన')  ->  61\n",
            "('ఆస్ర్టోటెక్నికల్', 'అంశాల', 'ఆధారంగా', 'ఇచ్చిన', 'సూచన')  ->  60\n",
            "('కేంద్ర', 'ఆర్థిక', 'మంత్రి', 'అరుణ్', 'జైట్లీ')  ->  57\n",
            "('సమయానికి', 'ప్రారంభ', 'స్థాయిసగటు', 'ఎటిపి', 'కన్నా')  ->  54\n",
            "('ట్రేడింగ్', 'వ్యూహం', 'నిఫ్టీ', 'ఫ్యూచర్స్', '930')  ->  33\n",
            "('ప్రారంభ', 'స్థాయిసగటు', 'ఎటిపి', 'కన్నా', 'పైన')  ->  33\n",
            "('స్థాయిసగటు', 'ఎటిపి', 'కన్నా', 'పైన', 'ట్రేడవుతుంటే')  ->  33\n",
            "('ఎటిపి', 'కన్నా', 'పైన', 'ట్రేడవుతుంటే', 'తగు')  ->  33\n",
            "('ట్రేడవుతుంటే', 'తగు', 'స్టాప్లా్సతో', 'లాంగ్', 'పొజిషన్లు')  ->  31\n",
            "('తగు', 'స్టాప్లా్సతో', 'లాంగ్', 'పొజిషన్లు', 'తీసుకుని')  ->  31\n",
            "('కేంద్ర', 'హోం', 'మంత్రి', 'రాజ్నాథ్', 'సింగ్')  ->  31\n",
            "('దిగువకు', 'వస్తే', 'షార్ట్', 'పొజిషన్లు', 'తీసుకుని')  ->  28\n",
            "('కదలికల', 'ఆధారంగా', 'నిర్ణయాలు', 'తీసుకోవాలి', 'డా')  ->  28\n",
            "('పైన', 'ట్రేడవుతుంటే', 'తగు', 'స్టాప్లా్సతో', 'లాంగ్')  ->  27\n",
            "('ఆధారంగా', 'నిర్ణయాలు', 'తీసుకోవాలి', 'డా', 'భువనగిరి')  ->  27\n",
            "('వ్యూహం', 'నిఫ్టీ', 'ఫ్యూచర్స్', '930', 'సమయానికి')  ->  27\n",
            "('నిఫ్టీ', 'ఫ్యూచర్స్', '930', 'సమయానికి', 'ప్రారంభ')  ->  27\n",
            "('ఫ్యూచర్స్', '930', 'సమయానికి', 'ప్రారంభ', 'స్థాయిసగటు')  ->  27\n",
            "('తగు', 'స్టాప్లా్సతో', 'షార్ట్', 'పొజిషన్లు', 'తీసుకుని')  ->  27\n",
            "('గురించి', 'ఈ', 'విషయాలు', 'మీకు', 'తెలుసా')  ->  26\n",
            "('గమనిక', 'ఇది', 'పూర్తిగా', 'ఆస్ర్టోటెక్నికల్', 'అంశాల')  ->  25\n",
            "('అమెరికా', 'ఆహార', 'ఔషధ', 'నియంత్రణ', 'మండలి')  ->  24\n",
            "('930', 'సమయానికి', 'ప్రారంభ', 'స్థాయిసగటు', 'ఎటిపి')  ->  24\n",
            "('పైకి', 'వస్తే', 'లాంగ్', 'పొజిషన్లు', 'తీసుకుని')  ->  24\n"
          ]
        }
      ]
    },
    {
      "cell_type": "code",
      "source": [
        "print(\"Total no.of unique 5-grams :- \", len(five_grams_telugu_vocab))"
      ],
      "metadata": {
        "colab": {
          "base_uri": "https://localhost:8080/"
        },
        "id": "c8rpqiXDZBBI",
        "outputId": "ca8a59a3-baa3-4893-f8f0-383edd76e452"
      },
      "execution_count": null,
      "outputs": [
        {
          "output_type": "stream",
          "name": "stdout",
          "text": [
            "Total no.of unique 5-grams :-  1677911\n"
          ]
        }
      ]
    },
    {
      "cell_type": "code",
      "source": [
        "ngrams_count = []\n",
        "ngrams_count.append(len(vocab_dic_sorted))\n",
        "ngrams_count.append(len(bigrams_telugu_vocab))\n",
        "ngrams_count.append(len(trigrams_telugu_vocab))\n",
        "ngrams_count.append(len(four_grams_telugu_vocab))\n",
        "ngrams_count.append(len(five_grams_telugu_vocab))"
      ],
      "metadata": {
        "id": "8be1Q0vsZCJN"
      },
      "execution_count": null,
      "outputs": []
    },
    {
      "cell_type": "code",
      "source": [
        "ngrams_count"
      ],
      "metadata": {
        "colab": {
          "base_uri": "https://localhost:8080/"
        },
        "id": "2ge6wnAGZFyl",
        "outputId": "d8980da0-ba9a-435e-f7e3-afd03740dd7e"
      },
      "execution_count": null,
      "outputs": [
        {
          "output_type": "execute_result",
          "data": {
            "text/plain": [
              "[328911, 1609783, 1998929, 1882201, 1677911]"
            ]
          },
          "metadata": {},
          "execution_count": 49
        }
      ]
    },
    {
      "cell_type": "code",
      "source": [
        "plt.figure(figsize = (10,5))\n",
        "plt.bar(x = [\"1-gram\",\"2-gram\",\"3-gram\",\"4-gram\",\"5-gram\"], height = ngrams_count)\n",
        "plt.ylabel(\"No.of unique n-grams\")"
      ],
      "metadata": {
        "colab": {
          "base_uri": "https://localhost:8080/",
          "height": 348
        },
        "id": "ZWZAIUXVZIZi",
        "outputId": "de0eaede-5134-4bd1-c38f-e978e3c9459d"
      },
      "execution_count": null,
      "outputs": [
        {
          "output_type": "execute_result",
          "data": {
            "text/plain": [
              "Text(0, 0.5, 'No.of unique n-grams')"
            ]
          },
          "metadata": {},
          "execution_count": 50
        },
        {
          "output_type": "display_data",
          "data": {
            "text/plain": [
              "<Figure size 720x360 with 1 Axes>"
            ],
            "image/png": "[encoded data removed]"
          },
          "metadata": {
            "needs_background": "light"
          }
        }
      ]
    },
    {
      "cell_type": "code",
      "source": [
        "telugu_news_df[\"topic\"].unique()"
      ],
      "metadata": {
        "colab": {
          "base_uri": "https://localhost:8080/"
        },
        "id": "seOrsB4ZZLTo",
        "outputId": "8e5544ce-6d36-4cb2-b1e8-652400309991"
      },
      "execution_count": null,
      "outputs": [
        {
          "output_type": "execute_result",
          "data": {
            "text/plain": [
              "array([0, 1, 2, 3, 4])"
            ]
          },
          "metadata": {},
          "execution_count": 51
        }
      ]
    },
    {
      "cell_type": "code",
      "source": [
        "from indicnlp.tokenize import sentence_tokenize\n",
        "def build_n_gram_vocab(n, tot_sentences_proc):\n",
        "  if n > 1:\n",
        "    n_grams_telugu_vocab = {}\n",
        "    for sen in tot_sentences_proc:\n",
        "      tokens = indic_tokenize.trivial_tokenize(sen)\n",
        "      ngram = list(ngrams(tokens, n))\n",
        "      for ngm in ngram:\n",
        "        if tuple(ngm) not in n_grams_telugu_vocab:\n",
        "          n_grams_telugu_vocab[tuple(ngm)] = 1\n",
        "        else:\n",
        "          n_grams_telugu_vocab[tuple(ngm)] += 1\n",
        "    n_grams_telugu_vocab = {k: v for k, v in sorted(n_grams_telugu_vocab.items(), key=lambda item: item[1], reverse = True)}\n",
        "  else:\n",
        "    n_grams_telugu_vocab = {}\n",
        "    for sen in tot_sentences_proc:\n",
        "      tokens = indic_tokenize.trivial_tokenize(sen)\n",
        "      ngram = list(ngrams(tokens, 1)) \n",
        "      for ngm in ngram:\n",
        "        if ngm not in n_grams_telugu_vocab:\n",
        "          n_grams_telugu_vocab[ngm] = 1\n",
        "        else:\n",
        "          n_grams_telugu_vocab[ngm] += 1\n",
        "    n_grams_telugu_vocab = {k: v for k, v in sorted(n_grams_telugu_vocab.items(), key=lambda item: item[1], reverse = True)}\n",
        "  return n_grams_telugu_vocab\n",
        "def get_class_vocab(class_id, n_grams = 1):\n",
        "  tot_text_class = \"\"\n",
        "  for t in telugu_news_df[telugu_news_df[\"topic\"] == class_id][\"body_processed\"]:\n",
        "    tot_text_class += t\n",
        "  tot_sentances_class = sentence_tokenize.sentence_split(tot_text_class, lang='te')\n",
        "  vocab = build_n_gram_vocab(n_grams, tot_sentances_class)\n",
        "  return vocab"
      ],
      "metadata": {
        "id": "72tzJPxBZRlo"
      },
      "execution_count": null,
      "outputs": []
    },
    {
      "cell_type": "code",
      "source": [
        "def get_prob_class_ngram(input_text, vocab, n_grams, class_id, laplace_param = 1):\n",
        "  total_tokens = len(vocab)\n",
        "  Prob_input = 1\n",
        "  tokens = indic_tokenize.trivial_tokenize(input_text)\n",
        "  vocab_n_1 = get_class_vocab(class_id, n_grams-1)\n",
        "  if n_grams > 1:\n",
        "    ngram = list(ngrams(tokens, n_grams))\n",
        "    for ngm in ngram:\n",
        "      prior_ngm = tuple(ngm[:n_grams-1])\n",
        "      if prior_ngm in vocab_n_1:\n",
        "        count_denom = vocab_n_1[prior_ngm]\n",
        "      else:\n",
        "        count_denom = 1\n",
        "      if tuple(ngm) in vocab:\n",
        "        count_w = vocab[tuple(ngm)]\n",
        "      else:\n",
        "        count_w = 0\n",
        "      Prob_input *= ((count_w + laplace_param)/(count_denom+(laplace_param*len(vocab_n_1))))\n",
        "  else:\n",
        "    tokens = indic_tokenize.trivial_tokenize(sen)\n",
        "    ngram = list(ngrams(tokens, 1))\n",
        "    for ngm in ngram:\n",
        "      if ngm in vocab:\n",
        "        count_w = vocab[ngm]\n",
        "      else:\n",
        "        count_w = 0\n",
        "      prob = count_w/total_tokens\n",
        "      Prob_input *= count_w/total_tokens\n",
        "  return Prob_input\n",
        "def get_max_ind(arr):\n",
        "  n = len(arr)\n",
        "  max_ind = 0\n",
        "  max_prob = arr[0]\n",
        "  for i in range(1,n):\n",
        "    if arr[i] > max_prob:\n",
        "      max_ind = i\n",
        "      max_prob = arr[i]\n",
        "  return max_ind, max_prob\n",
        "def classify_text(text, n_grams, laplace_param = 0):\n",
        "  cls0_vocab = get_class_vocab(0, n_grams)\n",
        "  cls1_vocab = get_class_vocab(1, n_grams)\n",
        "  cls2_vocab = get_class_vocab(2, n_grams)\n",
        "  cls3_vocab = get_class_vocab(3, n_grams)\n",
        "  cls4_vocab = get_class_vocab(4, n_grams)\n",
        "  probs_arr = []\n",
        "  cls0_prob = get_prob_class_ngram(text, cls0_vocab, n_grams,0, laplace_param)\n",
        "  cls1_prob = get_prob_class_ngram(text, cls1_vocab, n_grams,1, laplace_param)\n",
        "  cls2_prob = get_prob_class_ngram(text, cls2_vocab, n_grams,2, laplace_param)\n",
        "  cls3_prob = get_prob_class_ngram(text, cls3_vocab, n_grams,3, laplace_param)\n",
        "  cls4_prob = get_prob_class_ngram(text, cls4_vocab, n_grams,4, laplace_param)\n",
        "  probs_arr.append(cls0_prob)\n",
        "  probs_arr.append(cls1_prob)\n",
        "  probs_arr.append(cls2_prob)\n",
        "  probs_arr.append(cls3_prob)\n",
        "  probs_arr.append(cls4_prob)\n",
        "  print(probs_arr)\n",
        "  class_pred, prob_cls = get_max_ind(probs_arr)\n",
        "  return class_pred, prob_cls"
      ],
      "metadata": {
        "id": "DqISZawbZxF1"
      },
      "execution_count": null,
      "outputs": []
    },
    {
      "cell_type": "code",
      "source": [
        "text = \"స్టార్ హీరోగా వరుస సినిమాలతో బిజీగా ఉన్నప్పటికీ కుటుంబంతో గడిపే అవకాశాన్ని ఏ మాత్రం వదులుకోవడం\"\n",
        "class_pred, prob = classify_text(text, 1)\n",
        "print(\"Predticted class ->\",inv_topic_dict[class_pred], \"\\nPredicted with probabilty = \" ,prob*100)"
      ],
      "metadata": {
        "colab": {
          "base_uri": "https://localhost:8080/"
        },
        "id": "urbNR0WQaJbg",
        "outputId": "ef432656-a2d7-4835-cabd-ef1b4b298e5f"
      },
      "execution_count": null,
      "outputs": [
        {
          "output_type": "stream",
          "name": "stdout",
          "text": [
            "[0.0, 0.0, 1.5854392079695025e-25, 0.0, 0.0]\n",
            "Predticted class -> nation \n",
            "Predicted with probabilty =  1.5854392079695025e-23\n"
          ]
        }
      ]
    },
    {
      "cell_type": "code",
      "source": [
        "text = \"స్టార్ హీరోగా వరుస సినిమాలతో బిజీగా ఉన్నప్పటికీ కుటుంబంతో గడిపే అవకాశాన్ని ఏ మాత్రం వదులుకోవడం\"\n",
        "class_pred, prob = classify_text(text, 2, laplace_param = 2)\n",
        "print(\"Predticted class ->\",inv_topic_dict[class_pred], \"\\nPredicted with probabilty = \" ,prob*100)"
      ],
      "metadata": {
        "colab": {
          "base_uri": "https://localhost:8080/"
        },
        "id": "21rkNP0BaQNU",
        "outputId": "baecc66f-4013-47ab-8389-1fa75e962f60"
      },
      "execution_count": null,
      "outputs": [
        {
          "output_type": "stream",
          "name": "stdout",
          "text": [
            "[7.539467241817366e-52, 7.31668157691397e-51, 1.1717407701942233e-55, 6.301709540971078e-50, 9.973784159019319e-55]\n",
            "Predticted class -> entertainment \n",
            "Predicted with probabilty =  6.301709540971078e-48\n"
          ]
        }
      ]
    },
    {
      "cell_type": "code",
      "source": [
        "text = \"బాహుబలి2 సినిమా సంచలనం మెజారిటీ జనాలు మాత్రం బాహుబలి2ను ఆదరిస్తున్నారు సినీ ప్రముఖులు కూడా బాహుబలి2ను\"\n",
        "class_pred, prob = classify_text(text, 2, laplace_param = 2)\n",
        "print(\"Predticted class ->\",inv_topic_dict[class_pred], \"\\nPredicted with probabilty = \" ,prob*100)"
      ],
      "metadata": {
        "colab": {
          "base_uri": "https://localhost:8080/"
        },
        "id": "KIzgoqRial8k",
        "outputId": "870ebe59-6b93-4d0a-de25-ff5bd12fd8c1"
      },
      "execution_count": null,
      "outputs": [
        {
          "output_type": "stream",
          "name": "stdout",
          "text": [
            "[2.0110665825536858e-53, 3.024676982957221e-52, 7.831626215013029e-56, 3.126894856378308e-51, 1.6914625670477634e-55]\n",
            "Predticted class -> entertainment \n",
            "Predicted with probabilty =  3.1268948563783083e-49\n"
          ]
        }
      ]
    },
    {
      "cell_type": "code",
      "source": [
        "text = \"బాహుబలి2 సినిమా సంచలనం మెజారిటీ జనాలు మాత్రం బాహుబలి2ను ఆదరిస్తున్నారు సినీ ప్రముఖులు కూడా బాహుబలి2ను దర్శకుడు రాజమౌళిని ప్రశంసలతో ముంచెత్తుతున్నారు\"\n",
        "class_pred, prob = classify_text(text, 3, laplace_param = 3)\n",
        "print(\"Predticted class ->\",inv_topic_dict[class_pred], \"\\nPredicted with probabilty = \" ,prob*100)"
      ],
      "metadata": {
        "colab": {
          "base_uri": "https://localhost:8080/"
        },
        "id": "hzNXU-oIaYDq",
        "outputId": "8a9899b5-6c7c-4b87-a600-20ea96ecdb2b"
      },
      "execution_count": null,
      "outputs": [
        {
          "output_type": "stream",
          "name": "stdout",
          "text": [
            "[8.100269552898122e-77, 9.034344690378677e-75, 2.8067273076842573e-81, 8.737449308546919e-79, 4.301426135460897e-79]\n",
            "Predticted class -> sports \n",
            "Predicted with probabilty =  9.034344690378676e-73\n"
          ]
        }
      ]
    },
    {
      "cell_type": "code",
      "source": [
        "text = \"బాహుబలి2 సినిమా సంచలనం మెజారిటీ జనాలు మాత్రం బాహుబలి2ను ఆదరిస్తున్నారు సినీ ప్రముఖులు కూడా బాహుబలి2ను దర్శకుడు రాజమౌళిని ప్రశంసలతో ముంచెత్తుతున్నారు\"\n",
        "class_pred, prob = classify_text(text, 4, laplace_param = 5)\n",
        "print(\"Predticted class ->\",inv_topic_dict[class_pred], \"\\nPredicted with probabilty = \" ,prob*100)"
      ],
      "metadata": {
        "colab": {
          "base_uri": "https://localhost:8080/"
        },
        "id": "7alnTRdhafJv",
        "outputId": "7649fb5e-9b8c-4092-83d4-20bc9ee0e5e4"
      },
      "execution_count": null,
      "outputs": [
        {
          "output_type": "stream",
          "name": "stdout",
          "text": [
            "[5.454295653100135e-73, 8.120930489231527e-71, 4.8162484724192635e-77, 1.3511229185333792e-75, 2.7514511154241185e-74]\n",
            "Predticted class -> sports \n",
            "Predicted with probabilty =  8.120930489231528e-69\n"
          ]
        }
      ]
    },
    {
      "cell_type": "code",
      "source": [
        "text = \"బాహుబలి2 సినిమా సంచలనం మెజారిటీ జనాలు మాత్రం బాహుబలి2ను ఆదరిస్తున్నారు సినీ ప్రముఖులు కూడా బాహుబలి2ను దర్శకుడు రాజమౌళిని ప్రశంసలతో ముంచెత్తుతున్నారు\"\n",
        "class_pred, prob = classify_text(text, 5, laplace_param = 5)\n",
        "print(\"Predticted class ->\",inv_topic_dict[class_pred], \"\\nPredicted with probabilty = \" ,prob*100)"
      ],
      "metadata": {
        "colab": {
          "base_uri": "https://localhost:8080/"
        },
        "id": "8dJ_w4bRan17",
        "outputId": "b646b329-d735-40e0-a5c4-775b2525d1ea"
      },
      "execution_count": null,
      "outputs": [
        {
          "output_type": "stream",
          "name": "stdout",
          "text": [
            "[9.383043939066722e-68, 1.1700941656830867e-65, 2.1836803718626474e-71, 4.175812490954377e-70, 1.0438681175394662e-68]\n",
            "Predticted class -> sports \n",
            "Predicted with probabilty =  1.1700941656830867e-63\n"
          ]
        }
      ]
    },
    {
      "cell_type": "code",
      "source": [
        "test_path = \"/content/drive/MyDrive/nlp/test_telugu_news.csv\"\n",
        "test_news_df = pd.read_csv(test_path)\n",
        "del test_news_df[\"heading\"]\n",
        "del test_news_df[\"SNo\"]\n",
        "del test_news_df[\"date\"]\n",
        "test_news_df.head()"
      ],
      "metadata": {
        "colab": {
          "base_uri": "https://localhost:8080/",
          "height": 206
        },
        "id": "YjPgWd_uarFW",
        "outputId": "93e44c11-3f03-47c5-f344-eadc545194b8"
      },
      "execution_count": null,
      "outputs": [
        {
          "output_type": "execute_result",
          "data": {
            "text/plain": [
              "                                                body          topic\n",
              "0  హీరోగా తెలుగు సినిమాల్లోకి ఎంట్రీ ఇచ్చిన నిఖిల...  entertainment\n",
              "1   సినిమాల్లో యాక్షన్ స్టంట్లు చేసేటప్పుడు ఎక్కు...  entertainment\n",
              "2  దక్షిణ భారతాన్ని ఆక్రమించేందుకు బీజేపీ పంచెలు ...         nation\n",
              "3   నేటి మధ్యాహ్నం 1.59కి కౌంట్‌డౌన్‌ షురూశ్రీహరి...         nation\n",
              "4   ‘ఏమి రా... అబ్బి... యాడికి పోయినావు’ అంటూ రాయ...  entertainment"
            ],
            "text/html": [
              "\n",
              "  <div id=\"df-0dc18838-2390-4059-87fd-16c32ff2b44e\">\n",
              "    <div class=\"colab-df-container\">\n",
              "      <div>\n",
              "<style scoped>\n",
              "    .dataframe tbody tr th:only-of-type {\n",
              "        vertical-align: middle;\n",
              "    }\n",
              "\n",
              "    .dataframe tbody tr th {\n",
              "        vertical-align: top;\n",
              "    }\n",
              "\n",
              "    .dataframe thead th {\n",
              "        text-align: right;\n",
              "    }\n",
              "</style>\n",
              "<table border=\"1\" class=\"dataframe\">\n",
              "  <thead>\n",
              "    <tr style=\"text-align: right;\">\n",
              "      <th></th>\n",
              "      <th>body</th>\n",
              "      <th>topic</th>\n",
              "    </tr>\n",
              "  </thead>\n",
              "  <tbody>\n",
              "    <tr>\n",
              "      <th>0</th>\n",
              "      <td>హీరోగా తెలుగు సినిమాల్లోకి ఎంట్రీ ఇచ్చిన నిఖిల...</td>\n",
              "      <td>entertainment</td>\n",
              "    </tr>\n",
              "    <tr>\n",
              "      <th>1</th>\n",
              "      <td>సినిమాల్లో యాక్షన్ స్టంట్లు చేసేటప్పుడు ఎక్కు...</td>\n",
              "      <td>entertainment</td>\n",
              "    </tr>\n",
              "    <tr>\n",
              "      <th>2</th>\n",
              "      <td>దక్షిణ భారతాన్ని ఆక్రమించేందుకు బీజేపీ పంచెలు ...</td>\n",
              "      <td>nation</td>\n",
              "    </tr>\n",
              "    <tr>\n",
              "      <th>3</th>\n",
              "      <td>నేటి మధ్యాహ్నం 1.59కి కౌంట్‌డౌన్‌ షురూశ్రీహరి...</td>\n",
              "      <td>nation</td>\n",
              "    </tr>\n",
              "    <tr>\n",
              "      <th>4</th>\n",
              "      <td>‘ఏమి రా... అబ్బి... యాడికి పోయినావు’ అంటూ రాయ...</td>\n",
              "      <td>entertainment</td>\n",
              "    </tr>\n",
              "  </tbody>\n",
              "</table>\n",
              "</div>\n",
              "      <button class=\"colab-df-convert\" onclick=\"convertToInteractive('df-0dc18838-2390-4059-87fd-16c32ff2b44e')\"\n",
              "              title=\"Convert this dataframe to an interactive table.\"\n",
              "              style=\"display:none;\">\n",
              "        \n",
              "  <svg xmlns=\"http://www.w3.org/2000/svg\" height=\"24px\"viewBox=\"0 0 24 24\"\n",
              "       width=\"24px\">\n",
              "    <path d=\"M0 0h24v24H0V0z\" fill=\"none\"/>\n",
              "    <path d=\"M18.56 5.44l.94 2.06.94-2.06 2.06-.94-2.06-.94-.94-2.06-.94 2.06-2.06.94zm-11 1L8.5 8.5l.94-2.06 2.06-.94-2.06-.94L8.5 2.5l-.94 2.06-2.06.94zm10 10l.94 2.06.94-2.06 2.06-.94-2.06-.94-.94-2.06-.94 2.06-2.06.94z\"/><path d=\"M17.41 7.96l-1.37-1.37c-.4-.4-.92-.59-1.43-.59-.52 0-1.04.2-1.43.59L10.3 9.45l-7.72 7.72c-.78.78-.78 2.05 0 2.83L4 21.41c.39.39.9.59 1.41.59.51 0 1.02-.2 1.41-.59l7.78-7.78 2.81-2.81c.8-.78.8-2.07 0-2.86zM5.41 20L4 18.59l7.72-7.72 1.47 1.35L5.41 20z\"/>\n",
              "  </svg>\n",
              "      </button>\n",
              "      \n",
              "  <style>\n",
              "    .colab-df-container {\n",
              "      display:flex;\n",
              "      flex-wrap:wrap;\n",
              "      gap: 12px;\n",
              "    }\n",
              "\n",
              "    .colab-df-convert {\n",
              "      background-color: #E8F0FE;\n",
              "      border: none;\n",
              "      border-radius: 50%;\n",
              "      cursor: pointer;\n",
              "      display: none;\n",
              "      fill: #1967D2;\n",
              "      height: 32px;\n",
              "      padding: 0 0 0 0;\n",
              "      width: 32px;\n",
              "    }\n",
              "\n",
              "    .colab-df-convert:hover {\n",
              "      background-color: #E2EBFA;\n",
              "      box-shadow: 0px 1px 2px rgba(60, 64, 67, 0.3), 0px 1px 3px 1px rgba(60, 64, 67, 0.15);\n",
              "      fill: #174EA6;\n",
              "    }\n",
              "\n",
              "    [theme=dark] .colab-df-convert {\n",
              "      background-color: #3B4455;\n",
              "      fill: #D2E3FC;\n",
              "    }\n",
              "\n",
              "    [theme=dark] .colab-df-convert:hover {\n",
              "      background-color: #434B5C;\n",
              "      box-shadow: 0px 1px 3px 1px rgba(0, 0, 0, 0.15);\n",
              "      filter: drop-shadow(0px 1px 2px rgba(0, 0, 0, 0.3));\n",
              "      fill: #FFFFFF;\n",
              "    }\n",
              "  </style>\n",
              "\n",
              "      <script>\n",
              "        const buttonEl =\n",
              "          document.querySelector('#df-0dc18838-2390-4059-87fd-16c32ff2b44e button.colab-df-convert');\n",
              "        buttonEl.style.display =\n",
              "          google.colab.kernel.accessAllowed ? 'block' : 'none';\n",
              "\n",
              "        async function convertToInteractive(key) {\n",
              "          const element = document.querySelector('#df-0dc18838-2390-4059-87fd-16c32ff2b44e');\n",
              "          const dataTable =\n",
              "            await google.colab.kernel.invokeFunction('convertToInteractive',\n",
              "                                                     [key], {});\n",
              "          if (!dataTable) return;\n",
              "\n",
              "          const docLinkHtml = 'Like what you see? Visit the ' +\n",
              "            '<a target=\"_blank\" href=https://colab.research.google.com/notebooks/data_table.ipynb>data table notebook</a>'\n",
              "            + ' to learn more about interactive tables.';\n",
              "          element.innerHTML = '';\n",
              "          dataTable['output_type'] = 'display_data';\n",
              "          await google.colab.output.renderOutput(dataTable, element);\n",
              "          const docLink = document.createElement('div');\n",
              "          docLink.innerHTML = docLinkHtml;\n",
              "          element.appendChild(docLink);\n",
              "        }\n",
              "      </script>\n",
              "    </div>\n",
              "  </div>\n",
              "  "
            ]
          },
          "metadata": {},
          "execution_count": 63
        }
      ]
    },
    {
      "cell_type": "code",
      "source": [
        "y_test = test_news_df[\"topic\"].apply(func_topic)\n",
        "del test_news_df[\"topic\"]"
      ],
      "metadata": {
        "id": "Ysjj-SYXa2uA"
      },
      "execution_count": null,
      "outputs": []
    },
    {
      "cell_type": "code",
      "source": [
        "test_news_df[\"body_processed\"] = test_news_df[\"body\"].str.replace('\\u200c', '')\n",
        "test_news_df[\"body_processed\"] = test_news_df[\"body_processed\"].str.replace('\\n', '')\n",
        "test_news_df[\"body_processed\"] = test_news_df[\"body_processed\"].str.replace('\\t', '')\n",
        "test_news_df[\"body_processed\"] = test_news_df[\"body_processed\"].str.replace('\\xa0', '')\n",
        "test_news_df[\"body_processed\"] = test_news_df[\"body_processed\"].apply(lambda text: remove_punctuation(text))\n",
        "del test_news_df[\"body\"]\n",
        "test_news_df.head()"
      ],
      "metadata": {
        "colab": {
          "base_uri": "https://localhost:8080/",
          "height": 206
        },
        "id": "p3D6-EiEa77V",
        "outputId": "cf6a47a8-ccc5-4b50-dce5-ed58f4f684bb"
      },
      "execution_count": null,
      "outputs": [
        {
          "output_type": "execute_result",
          "data": {
            "text/plain": [
              "                                      body_processed\n",
              "0  హీరోగా తెలుగు సినిమాల్లోకి ఎంట్రీ ఇచ్చిన నిఖిల...\n",
              "1   సినిమాల్లో యాక్షన్ స్టంట్లు చేసేటప్పుడు ఎక్కు...\n",
              "2  దక్షిణ భారతాన్ని ఆక్రమించేందుకు బీజేపీ పంచెలు ...\n",
              "3  నేటి మధ్యాహ్నం 159కి కౌంట్డౌన్ షురూశ్రీహరికోట ...\n",
              "4  ‘ఏమి రా అబ్బి యాడికి పోయినావు’ అంటూ రాయలసీమ యా..."
            ],
            "text/html": [
              "\n",
              "  <div id=\"df-dfebab10-8869-4fbf-811f-50c70a28a26a\">\n",
              "    <div class=\"colab-df-container\">\n",
              "      <div>\n",
              "<style scoped>\n",
              "    .dataframe tbody tr th:only-of-type {\n",
              "        vertical-align: middle;\n",
              "    }\n",
              "\n",
              "    .dataframe tbody tr th {\n",
              "        vertical-align: top;\n",
              "    }\n",
              "\n",
              "    .dataframe thead th {\n",
              "        text-align: right;\n",
              "    }\n",
              "</style>\n",
              "<table border=\"1\" class=\"dataframe\">\n",
              "  <thead>\n",
              "    <tr style=\"text-align: right;\">\n",
              "      <th></th>\n",
              "      <th>body_processed</th>\n",
              "    </tr>\n",
              "  </thead>\n",
              "  <tbody>\n",
              "    <tr>\n",
              "      <th>0</th>\n",
              "      <td>హీరోగా తెలుగు సినిమాల్లోకి ఎంట్రీ ఇచ్చిన నిఖిల...</td>\n",
              "    </tr>\n",
              "    <tr>\n",
              "      <th>1</th>\n",
              "      <td>సినిమాల్లో యాక్షన్ స్టంట్లు చేసేటప్పుడు ఎక్కు...</td>\n",
              "    </tr>\n",
              "    <tr>\n",
              "      <th>2</th>\n",
              "      <td>దక్షిణ భారతాన్ని ఆక్రమించేందుకు బీజేపీ పంచెలు ...</td>\n",
              "    </tr>\n",
              "    <tr>\n",
              "      <th>3</th>\n",
              "      <td>నేటి మధ్యాహ్నం 159కి కౌంట్డౌన్ షురూశ్రీహరికోట ...</td>\n",
              "    </tr>\n",
              "    <tr>\n",
              "      <th>4</th>\n",
              "      <td>‘ఏమి రా అబ్బి యాడికి పోయినావు’ అంటూ రాయలసీమ యా...</td>\n",
              "    </tr>\n",
              "  </tbody>\n",
              "</table>\n",
              "</div>\n",
              "      <button class=\"colab-df-convert\" onclick=\"convertToInteractive('df-dfebab10-8869-4fbf-811f-50c70a28a26a')\"\n",
              "              title=\"Convert this dataframe to an interactive table.\"\n",
              "              style=\"display:none;\">\n",
              "        \n",
              "  <svg xmlns=\"http://www.w3.org/2000/svg\" height=\"24px\"viewBox=\"0 0 24 24\"\n",
              "       width=\"24px\">\n",
              "    <path d=\"M0 0h24v24H0V0z\" fill=\"none\"/>\n",
              "    <path d=\"M18.56 5.44l.94 2.06.94-2.06 2.06-.94-2.06-.94-.94-2.06-.94 2.06-2.06.94zm-11 1L8.5 8.5l.94-2.06 2.06-.94-2.06-.94L8.5 2.5l-.94 2.06-2.06.94zm10 10l.94 2.06.94-2.06 2.06-.94-2.06-.94-.94-2.06-.94 2.06-2.06.94z\"/><path d=\"M17.41 7.96l-1.37-1.37c-.4-.4-.92-.59-1.43-.59-.52 0-1.04.2-1.43.59L10.3 9.45l-7.72 7.72c-.78.78-.78 2.05 0 2.83L4 21.41c.39.39.9.59 1.41.59.51 0 1.02-.2 1.41-.59l7.78-7.78 2.81-2.81c.8-.78.8-2.07 0-2.86zM5.41 20L4 18.59l7.72-7.72 1.47 1.35L5.41 20z\"/>\n",
              "  </svg>\n",
              "      </button>\n",
              "      \n",
              "  <style>\n",
              "    .colab-df-container {\n",
              "      display:flex;\n",
              "      flex-wrap:wrap;\n",
              "      gap: 12px;\n",
              "    }\n",
              "\n",
              "    .colab-df-convert {\n",
              "      background-color: #E8F0FE;\n",
              "      border: none;\n",
              "      border-radius: 50%;\n",
              "      cursor: pointer;\n",
              "      display: none;\n",
              "      fill: #1967D2;\n",
              "      height: 32px;\n",
              "      padding: 0 0 0 0;\n",
              "      width: 32px;\n",
              "    }\n",
              "\n",
              "    .colab-df-convert:hover {\n",
              "      background-color: #E2EBFA;\n",
              "      box-shadow: 0px 1px 2px rgba(60, 64, 67, 0.3), 0px 1px 3px 1px rgba(60, 64, 67, 0.15);\n",
              "      fill: #174EA6;\n",
              "    }\n",
              "\n",
              "    [theme=dark] .colab-df-convert {\n",
              "      background-color: #3B4455;\n",
              "      fill: #D2E3FC;\n",
              "    }\n",
              "\n",
              "    [theme=dark] .colab-df-convert:hover {\n",
              "      background-color: #434B5C;\n",
              "      box-shadow: 0px 1px 3px 1px rgba(0, 0, 0, 0.15);\n",
              "      filter: drop-shadow(0px 1px 2px rgba(0, 0, 0, 0.3));\n",
              "      fill: #FFFFFF;\n",
              "    }\n",
              "  </style>\n",
              "\n",
              "      <script>\n",
              "        const buttonEl =\n",
              "          document.querySelector('#df-dfebab10-8869-4fbf-811f-50c70a28a26a button.colab-df-convert');\n",
              "        buttonEl.style.display =\n",
              "          google.colab.kernel.accessAllowed ? 'block' : 'none';\n",
              "\n",
              "        async function convertToInteractive(key) {\n",
              "          const element = document.querySelector('#df-dfebab10-8869-4fbf-811f-50c70a28a26a');\n",
              "          const dataTable =\n",
              "            await google.colab.kernel.invokeFunction('convertToInteractive',\n",
              "                                                     [key], {});\n",
              "          if (!dataTable) return;\n",
              "\n",
              "          const docLinkHtml = 'Like what you see? Visit the ' +\n",
              "            '<a target=\"_blank\" href=https://colab.research.google.com/notebooks/data_table.ipynb>data table notebook</a>'\n",
              "            + ' to learn more about interactive tables.';\n",
              "          element.innerHTML = '';\n",
              "          dataTable['output_type'] = 'display_data';\n",
              "          await google.colab.output.renderOutput(dataTable, element);\n",
              "          const docLink = document.createElement('div');\n",
              "          docLink.innerHTML = docLinkHtml;\n",
              "          element.appendChild(docLink);\n",
              "        }\n",
              "      </script>\n",
              "    </div>\n",
              "  </div>\n",
              "  "
            ]
          },
          "metadata": {},
          "execution_count": 65
        }
      ]
    },
    {
      "cell_type": "code",
      "source": [
        "categories = [i for i in range(5)]\n",
        "test_text = []\n",
        "for t in test_news_df[\"body_processed\"]:\n",
        "  test_text.append(t)"
      ],
      "metadata": {
        "id": "n8STDA2BbJnT"
      },
      "execution_count": null,
      "outputs": []
    },
    {
      "cell_type": "code",
      "source": [
        "x_test = test_text\n",
        "print(len(x_test) , len(y_test))"
      ],
      "metadata": {
        "colab": {
          "base_uri": "https://localhost:8080/"
        },
        "id": "5eriGlB_bNa_",
        "outputId": "bacda49f-c732-428f-aa14-f7f5b98334fd"
      },
      "execution_count": null,
      "outputs": [
        {
          "output_type": "stream",
          "name": "stdout",
          "text": [
            "4329 4329\n"
          ]
        }
      ]
    },
    {
      "cell_type": "code",
      "source": [
        "from sklearn.feature_extraction.text import CountVectorizer, TfidfVectorizer"
      ],
      "metadata": {
        "id": "6EJJfv-1baRt"
      },
      "execution_count": null,
      "outputs": []
    },
    {
      "cell_type": "code",
      "source": [
        "categories = [i for i in range(5)]\n",
        "text_topic = []\n",
        "for i in range(5):\n",
        "  curr_text = \"\"\n",
        "  for text in telugu_news_df[telugu_news_df[\"topic\"] == i][\"body_processed\"]:\n",
        "    curr_text += text\n",
        "    curr_text += \" \"\n",
        "  text_topic.append(curr_text)"
      ],
      "metadata": {
        "id": "2KuV6znNbgHI"
      },
      "execution_count": null,
      "outputs": []
    },
    {
      "cell_type": "code",
      "source": [
        "len(text_topic)\n",
        "for i in range(5):\n",
        "  print(len(text_topic[i]))"
      ],
      "metadata": {
        "colab": {
          "base_uri": "https://localhost:8080/"
        },
        "id": "NMT5KKfFbiAS",
        "outputId": "2600240d-d31e-432e-cb91-f61274038520"
      },
      "execution_count": null,
      "outputs": [
        {
          "output_type": "stream",
          "name": "stdout",
          "text": [
            "3303990\n",
            "2092003\n",
            "6725085\n",
            "5737025\n",
            "6077143\n"
          ]
        }
      ]
    },
    {
      "cell_type": "code",
      "source": [
        "from indicnlp.tokenize import indic_tokenize  \n",
        "def get_all_vocab(tot_text):\n",
        "  dic = {}\n",
        "  for t in indic_tokenize.trivial_tokenize(tot_text): \n",
        "    if t not in dic:\n",
        "      dic[t] = 1\n",
        "    else:\n",
        "      dic[t] += 1\n",
        "  return dic \n",
        "tot_text = \"\"\n",
        "for i in range(5):\n",
        "  tot_text += text_topic[i]"
      ],
      "metadata": {
        "id": "CJ7XYly6blfF"
      },
      "execution_count": null,
      "outputs": []
    },
    {
      "cell_type": "code",
      "source": [
        "tot_vocab = get_all_vocab(tot_text)\n",
        "tot_vocab = {k: v for k, v in sorted(tot_vocab.items(), key=lambda item: item[1], reverse = True)}\n",
        "print(len(tot_vocab))"
      ],
      "metadata": {
        "colab": {
          "base_uri": "https://localhost:8080/"
        },
        "id": "sz1-PwjubqJZ",
        "outputId": "ccf354b3-77fa-4dc0-c297-b99a4bb53cc6"
      },
      "execution_count": null,
      "outputs": [
        {
          "output_type": "stream",
          "name": "stdout",
          "text": [
            "316736\n"
          ]
        }
      ]
    },
    {
      "cell_type": "code",
      "source": [
        "x_train = text_topic\n",
        "y_train = categories"
      ],
      "metadata": {
        "id": "2OXtPqajbsw8"
      },
      "execution_count": null,
      "outputs": []
    },
    {
      "cell_type": "code",
      "source": [
        "import regex \n",
        "from indicnlp.tokenize import indic_tokenize\n",
        "def custom_analyzer(text):\n",
        "    words = regex.findall(r'\\w{1,}', text) #extract words of at least 2 letters\n",
        "    for w in words:\n",
        "        yield w"
      ],
      "metadata": {
        "id": "I2hFcFC6bvo_"
      },
      "execution_count": null,
      "outputs": []
    },
    {
      "cell_type": "code",
      "source": [
        "# We are using both uni-grams and bi-grams here to get the feature vectors\n",
        "# We selected only the top 100000 words from the corpus to represent our data\n",
        "count_vec = CountVectorizer(max_df = 0.75,min_df=0.1, lowercase = False , analyzer = custom_analyzer, max_features=100000, ngram_range=(1,2))\n",
        "x_train_features = count_vec.fit_transform(x_train)"
      ],
      "metadata": {
        "id": "fwxAuWlsb1of"
      },
      "execution_count": null,
      "outputs": []
    },
    {
      "cell_type": "code",
      "source": [
        "x_train_features.shape"
      ],
      "metadata": {
        "colab": {
          "base_uri": "https://localhost:8080/"
        },
        "id": "aLH-wLfRcB-w",
        "outputId": "af3851e4-9fc6-4106-fe32-0bf37daa8365"
      },
      "execution_count": null,
      "outputs": [
        {
          "output_type": "execute_result",
          "data": {
            "text/plain": [
              "(5, 100000)"
            ]
          },
          "metadata": {},
          "execution_count": 76
        }
      ]
    },
    {
      "cell_type": "code",
      "source": [
        "# Stop words identified from the corpus by using the term-frequencies and the inverse document frequencies\n",
        "len(count_vec.stop_words_)"
      ],
      "metadata": {
        "colab": {
          "base_uri": "https://localhost:8080/"
        },
        "id": "q7yevxMSb7Ft",
        "outputId": "6e0dbcb4-c657-4f26-966f-d0374eba882c"
      },
      "execution_count": null,
      "outputs": [
        {
          "output_type": "execute_result",
          "data": {
            "text/plain": [
              "201776"
            ]
          },
          "metadata": {},
          "execution_count": 77
        }
      ]
    },
    {
      "cell_type": "code",
      "source": [
        "x_test_features = count_vec.transform(x_test)"
      ],
      "metadata": {
        "id": "FSVgfoEtcDuO"
      },
      "execution_count": null,
      "outputs": []
    },
    {
      "cell_type": "code",
      "source": [
        "from sklearn.naive_bayes import MultinomialNB\n",
        "clf = MultinomialNB()\n",
        "clf.fit(x_train_features, y_train)\n",
        "MultinomialNB()"
      ],
      "metadata": {
        "colab": {
          "base_uri": "https://localhost:8080/"
        },
        "id": "MunF0tvDcGrP",
        "outputId": "2355573a-182e-4b88-eea6-be3bac21d4a7"
      },
      "execution_count": null,
      "outputs": [
        {
          "output_type": "execute_result",
          "data": {
            "text/plain": [
              "MultinomialNB()"
            ]
          },
          "metadata": {},
          "execution_count": 79
        }
      ]
    },
    {
      "cell_type": "code",
      "source": [
        "print(\"Test score :- \", clf.score(x_test_features, y_test))"
      ],
      "metadata": {
        "colab": {
          "base_uri": "https://localhost:8080/"
        },
        "id": "y_nyQut4cJ6C",
        "outputId": "25f26c52-2f2c-41f6-8065-af0b69e82eac"
      },
      "execution_count": null,
      "outputs": [
        {
          "output_type": "stream",
          "name": "stdout",
          "text": [
            "Test score :-  0.933933933933934\n"
          ]
        }
      ]
    },
    {
      "cell_type": "code",
      "source": [
        "from sklearn.metrics import classification_report\n",
        "y_pred_test = clf.predict(x_test_features)\n",
        "target_names = list(inv_topic_dict.values())"
      ],
      "metadata": {
        "id": "0qQd8HXDcOR_"
      },
      "execution_count": null,
      "outputs": []
    },
    {
      "cell_type": "code",
      "source": [
        "print(classification_report(y_test, y_pred_test, target_names=target_names))"
      ],
      "metadata": {
        "colab": {
          "base_uri": "https://localhost:8080/"
        },
        "id": "HyCIrcbhcR_1",
        "outputId": "637ec3e4-687c-4cc7-ac89-22d6cccf0d0a"
      },
      "execution_count": null,
      "outputs": [
        {
          "output_type": "stream",
          "name": "stdout",
          "text": [
            "               precision    recall  f1-score   support\n",
            "\n",
            "     business       0.88      0.97      0.92       653\n",
            "       sports       0.97      0.94      0.96       437\n",
            "       nation       0.95      0.90      0.93      1673\n",
            "entertainment       0.96      0.98      0.97      1289\n",
            "    editorial       0.80      0.83      0.82       277\n",
            "\n",
            "     accuracy                           0.93      4329\n",
            "    macro avg       0.91      0.92      0.92      4329\n",
            " weighted avg       0.94      0.93      0.93      4329\n",
            "\n"
          ]
        }
      ]
    },
    {
      "cell_type": "code",
      "source": [
        "from sklearn.metrics import confusion_matrix, classification_report,accuracy_score,average_precision_score,f1_score\n",
        "confusion_mat = confusion_matrix(y_test, y_pred_test)\n",
        "plt.figure(figsize=(10,4))\n",
        "plt.title(\"Confusion matrix for test data\")\n",
        "plt.xlabel(\"Predicted class\")\n",
        "plt.ylabel(\"True class\")\n",
        "sns.heatmap(confusion_mat, annot=True, cmap=\"Purples\",  xticklabels = target_names, yticklabels=target_names)\n",
        "plt.show()"
      ],
      "metadata": {
        "colab": {
          "base_uri": "https://localhost:8080/",
          "height": 281
        },
        "id": "aERzEurQcURk",
        "outputId": "da511515-20a6-48fb-de7d-5420729732ad"
      },
      "execution_count": null,
      "outputs": [
        {
          "output_type": "display_data",
          "data": {
            "text/plain": [
              "<Figure size 720x288 with 2 Axes>"
            ],
            "image/png": "[encoded data removed]"
          },
          "metadata": {
            "needs_background": "light"
          }
        }
      ]
    },
    {
      "cell_type": "code",
      "source": [
        "def predict_text_sample(test_text, inv_topic_dict, clf, count_vec):\n",
        "  test_sample = [test_text]\n",
        "  x_test_sample_fetaures = count_vec.transform(test_sample)\n",
        "  y_pred_test_sample = clf.predict(x_test_sample_fetaures)\n",
        "  return inv_topic_dict[y_pred_test_sample[0]]"
      ],
      "metadata": {
        "id": "qjytrkoPcZnJ"
      },
      "execution_count": null,
      "outputs": []
    },
    {
      "cell_type": "code",
      "source": [
        "test_text =\"ఇండియన్ స్క్రీన్ మీద పోటీ పడటం అయిపోయింది అందుకే ఇప్పుడు మన సినిమాలు ఫారిన్ రిలీజ్ లో పోటీ పడుతున్నాయి. ఇండియన్ సినిమాలు ముఖ్యంగా సౌత్ సినిమాలు రిలీజ్ అవుతున్నాయి అంటే వరల్డ్ వైడ్ మార్కెట్ ఓపెన్ అవుతుంది. తెలుగు తమిళ హిందీ భాషల సినిమాలు సబ్ టైటిల్స్ తో విధేశాల్లో కూడా రిలీజ్ అవుతున్నాయి\"\n",
        "print(\"Prediced class is \" , predict_text_sample(test_text, inv_topic_dict, clf, count_vec))"
      ],
      "metadata": {
        "colab": {
          "base_uri": "https://localhost:8080/"
        },
        "id": "Zf4Lz3Ogcj76",
        "outputId": "5ec8f660-c1f5-44b7-8e06-458193ac054d"
      },
      "execution_count": null,
      "outputs": [
        {
          "output_type": "stream",
          "name": "stdout",
          "text": [
            "Prediced class is  entertainment\n"
          ]
        }
      ]
    },
    {
      "cell_type": "code",
      "source": [
        "test_text = \"హైదరాబాద్: తెలంగాణలో సంచలనం సృష్టించిన ‘ఎమ్మెల్యేలకు ఎర’ కేసులో హైకోర్టు కీలక తీర్పు వెల్లడించింది. ఈ కేసులో ముగ్గురు నిందితుల రిమాండ్‌కు ఉన్నత న్యాయస్థానం అనుమతించింది. నిందితులు వెంటనే సైబరాబాద్ కమిషనర్‌ స్టీఫెన్‌ రవీంద్ర ఎదుట లొంగిపోవాలని ఆదేశించింది. ఒకవేళ లొంగిపోకపోతే వారిని అరెస్టు చేసి ఏసీబీ కోర్టులో హాజరుపర్చాలని.. ఆ తర్వాత రిమాండ్‌కు తరలించాలని పోలీసులను ధర్మాసనం ఆదేశించింది.\"\n",
        "print(\"Prediced class is \" , predict_text_sample(test_text, inv_topic_dict, clf, count_vec))"
      ],
      "metadata": {
        "colab": {
          "base_uri": "https://localhost:8080/"
        },
        "id": "ytJ05zOccort",
        "outputId": "91453d91-c5f5-441d-c7d6-39f3b5d0a413"
      },
      "execution_count": null,
      "outputs": [
        {
          "output_type": "stream",
          "name": "stdout",
          "text": [
            "Prediced class is  nation\n"
          ]
        }
      ]
    },
    {
      "cell_type": "code",
      "source": [
        "test_text = \"టీ20 ప్రప్రంచకప్‌లో టీమ్‌ఇండియా ఆడటానికి ముందు న్యూజిలాండ్‌తో వార్మప్‌ మ్యాచ్‌ జరగాల్సి ఉంది. అయితే వర్షం కారణంగా రద్దైంది. ఆ తర్వాత పాకిస్థాన్‌తో మెల్‌బోర్న్‌ వేదికగా మ్యాచ్‌కు వరుణుడి గండం ఉందని వార్తలు వచ్చాయి. దీంతో సోషల్‌ మీడియాలో మీమ్స్‌ కూడా భారీ స్థాయిలో ట్రోల్‌ అయ్యాయి. అయితే వాతావరణం అనుకూలంగా మారడంతో దాయాదుల పోరును అక్టోబర్‌ 23న వీక్షించే అవకాశం అభిమానులకు దక్కింది. ఉత్కంఠపోరులో టీమ్‌ఇండియా విజయం సాధించిన విషయం తెలిసిందే. \"\n",
        "print(\"Prediced class is \" , predict_text_sample(test_text, inv_topic_dict, clf, count_vec))"
      ],
      "metadata": {
        "colab": {
          "base_uri": "https://localhost:8080/"
        },
        "id": "PAwiIrfpctZz",
        "outputId": "6b0eb340-aa82-4068-e553-385b4fe4e705"
      },
      "execution_count": null,
      "outputs": [
        {
          "output_type": "stream",
          "name": "stdout",
          "text": [
            "Prediced class is  sports\n"
          ]
        }
      ]
    }
  ]
}